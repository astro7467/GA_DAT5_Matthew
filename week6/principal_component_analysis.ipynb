{
 "cells": [
  {
   "cell_type": "markdown",
   "metadata": {},
   "source": [
    "# Principal Component Analysis in 3 Simple Steps"
   ]
  },
  {
   "cell_type": "markdown",
   "metadata": {},
   "source": [
    "Principal Component Analysis (PCA) is a simple yet popular and useful linear transformation technique that is used in numerous applications, such as stock market predictions, the  analysis of gene expression data, and many more. In this tutorial, we will see that PCA is not just a \"black box\", and we are going to unravel its internals in 3 basic steps."
   ]
  },
  {
   "cell_type": "markdown",
   "metadata": {},
   "source": [
    "This article just got a complete overhaul, the original version is still available at [principal_component_analysis_old.ipynb](http://nbviewer.ipython.org/github/rasbt/pattern_classification/blob/master/dimensionality_reduction/projection/principal_component_analysis.ipynb)."
   ]
  },
  {
   "cell_type": "markdown",
   "metadata": {},
   "source": [
    "<br>\n",
    "<br>"
   ]
  },
  {
   "cell_type": "markdown",
   "metadata": {},
   "source": [
    "<hr>"
   ]
  },
  {
   "cell_type": "markdown",
   "metadata": {},
   "source": [
    "## Sections"
   ]
  },
  {
   "cell_type": "markdown",
   "metadata": {},
   "source": [
    "- [Introduction](#Introduction)\n",
    "    - [PCA Vs. LDA](#PCA-Vs.-LDA)\n",
    "    - [PCA and Dimensionality Reduction](#PCA-and-Dimensionality-Reduction)\n",
    "    - [A Summary of the PCA Approach](#A-Summary-of-the-PCA-Approach)\n",
    "- [Preparing the Iris Dataset](#Preparing-the-Iris-Dataset)\n",
    "    - [About Iris](#About-Iris)\n",
    "    - [Loading the Dataset](#Loading-the-Dataset)\n",
    "    - [Exploratory Visualization](#Exploratory-Visualization)\n",
    "    - [Standardizing](#Standardizing)\n",
    "- [1 - Eigendecomposition - Computing Eigenvectors and Eigenvalues](#1---Eigendecomposition---Computing-Eigenvectors-and-Eigenvalues)\n",
    "    - [Covariance Matrix](#Covariance-Matrix)\n",
    "    - [Correlation Matrix](#Correlation-Matrix)\n",
    "    - [Singular Vector Decomposition](#Singular-Vector-Decomposition)\n",
    "- [2 - Selecting Principal Components](#2---Selecting-Principal-Components)\n",
    "    - [Sorting Eigenpairs](#Sorting-Eigenpairs)\n",
    "    - [Explained Variance](#Explained-Variance)\n",
    "    - [Projection Matrix](#Projection-Matrix)\n",
    "- [3 - Projection Onto the New Feature Space](#3---Selecting-Principal-Components)\n",
    "- [Shortcut - PCA in scikit-learn](#Shortcut---PCA-in-scikit-learn)"
   ]
  },
  {
   "cell_type": "markdown",
   "metadata": {},
   "source": [
    "<br>\n",
    "<br>"
   ]
  },
  {
   "cell_type": "markdown",
   "metadata": {},
   "source": [
    "<hr>"
   ]
  },
  {
   "cell_type": "markdown",
   "metadata": {},
   "source": [
    "## Introduction"
   ]
  },
  {
   "cell_type": "markdown",
   "metadata": {},
   "source": [
    "[[back to top](#Sections)]"
   ]
  },
  {
   "cell_type": "markdown",
   "metadata": {},
   "source": [
    "The sheer size of data in the modern age is not only a challenge for computer hardware but also a main bottleneck for the performance of many machine learning algorithms. The main goal of a PCA analysis is to identify patterns in data; PCA aims to detect the correlation between variables. If a strong correlation between variables exists, the attempt to reduce the dimensionality only makes sense. In a nutshell, this is what PCA is all about: Finding the directions of maximum variance in high-dimensional data and project it onto a smaller dimensional subspace while retaining most of the information."
   ]
  },
  {
   "cell_type": "markdown",
   "metadata": {},
   "source": [
    "<br>\n",
    "<br>"
   ]
  },
  {
   "cell_type": "markdown",
   "metadata": {},
   "source": [
    "### PCA Vs. LDA"
   ]
  },
  {
   "cell_type": "markdown",
   "metadata": {},
   "source": [
    "[[back to top](#Sections)]"
   ]
  },
  {
   "cell_type": "markdown",
   "metadata": {},
   "source": [
    "Both Linear Discriminant Analysis (LDA) and PCA are linear transformation methods. PCA yields the directions (principal components) that maximize the variance of the data, whereas LDA also aims to find the directions that maximize the separation (or discrimination) between different classes, which can be useful in pattern classification problem (PCA \"ignores\" class labels).   \n",
    "***In other words, PCA projects the entire dataset onto a different feature (sub)space, and LDA tries to determine a suitable feature (sub)space in order to distinguish between patterns that belong to different classes.***  "
   ]
  },
  {
   "cell_type": "markdown",
   "metadata": {},
   "source": [
    "<br>\n",
    "<br>"
   ]
  },
  {
   "cell_type": "markdown",
   "metadata": {},
   "source": [
    "### PCA and Dimensionality Reduction"
   ]
  },
  {
   "cell_type": "markdown",
   "metadata": {},
   "source": [
    "[[back to top](#Sections)]"
   ]
  },
  {
   "cell_type": "markdown",
   "metadata": {},
   "source": [
    "Often, the desired goal is to reduce the dimensions of a $d$-dimensional dataset by projecting it onto a $(k)$-dimensional subspace (where $k\\;<\\;d$) in order to increase the computational efficiency while retaining most of the information. An important question is \"what is the size of $k$ that represents the data 'well'?\"\n",
    "\n",
    "Later, we will compute eigenvectors (the principal components) of a dataset and collect them in a projection matrix. Each of those eigenvectors is associated with an eigenvalue which can be interpreted as the \"length\" or \"magnitude\" of the corresponding eigenvector. If some eigenvalues have a significantly larger magnitude than others that the reduction of the dataset via PCA onto a smaller dimensional subspace by dropping the \"less informative\" eigenpairs is reasonable.\n"
   ]
  },
  {
   "cell_type": "markdown",
   "metadata": {},
   "source": [
    "<br>\n",
    "<br>"
   ]
  },
  {
   "cell_type": "markdown",
   "metadata": {},
   "source": [
    "### A Summary of the PCA Approach"
   ]
  },
  {
   "cell_type": "markdown",
   "metadata": {},
   "source": [
    "[[back to top](#Sections)]"
   ]
  },
  {
   "cell_type": "markdown",
   "metadata": {},
   "source": [
    "-  Standardize the data.\n",
    "-  Obtain the Eigenvectors and Eigenvalues from the covariance matrix or correlation matrix, or perform Singular Vector Decomposition.\n",
    "-  Sort eigenvalues in descending order and choose the $k$ eigenvectors that correspond to the $k$ largest eigenvalues where $k$ is the number of dimensions of the new feature subspace ($k \\le d$)/.\n",
    "-  Construct the projection matrix $\\mathbf{W}$ from the selected $k$ eigenvectors.\n",
    "-  Transform the original dataset $\\mathbf{X}$ via $\\mathbf{W}$ to obtain a $k$-dimensional feature subspace $\\mathbf{Y}$."
   ]
  },
  {
   "cell_type": "markdown",
   "metadata": {},
   "source": [
    "<br>\n",
    "<br>"
   ]
  },
  {
   "cell_type": "markdown",
   "metadata": {},
   "source": [
    "## Preparing the Iris Dataset"
   ]
  },
  {
   "cell_type": "markdown",
   "metadata": {},
   "source": [
    "[[back to top](#Sections)]"
   ]
  },
  {
   "cell_type": "markdown",
   "metadata": {},
   "source": [
    "<br>\n",
    "<br>"
   ]
  },
  {
   "cell_type": "markdown",
   "metadata": {},
   "source": [
    "### About Iris"
   ]
  },
  {
   "cell_type": "markdown",
   "metadata": {},
   "source": [
    "[[back to top](#Sections)]"
   ]
  },
  {
   "cell_type": "markdown",
   "metadata": {},
   "source": [
    "For the following tutorial, we will be working with the famous \"Iris\" dataset that has been deposited on the UCI machine learning repository   \n",
    "([https://archive.ics.uci.edu/ml/datasets/Iris](https://archive.ics.uci.edu/ml/datasets/Iris)).\n",
    "\n",
    "The iris dataset contains measurements for 150 iris flowers from three different species.\n",
    "\n",
    "The three classes in the Iris dataset are:\n",
    "\n",
    "1. Iris-setosa (n=50)\n",
    "2. Iris-versicolor (n=50)\n",
    "3. Iris-virginica (n=50)\n",
    "\n",
    "And the four features of in Iris dataset are:\n",
    "\n",
    "1. sepal length in cm\n",
    "2. sepal width in cm\n",
    "3. petal length in cm\n",
    "4. petal width in cm\n",
    "\n"
   ]
  },
  {
   "cell_type": "markdown",
   "metadata": {},
   "source": [
    "<br>\n",
    "<br>"
   ]
  },
  {
   "cell_type": "markdown",
   "metadata": {},
   "source": [
    "### Loading the Dataset"
   ]
  },
  {
   "cell_type": "markdown",
   "metadata": {},
   "source": [
    "[[back to top](#Sections)]"
   ]
  },
  {
   "cell_type": "markdown",
   "metadata": {},
   "source": [
    "In order to load the Iris data directly from the UCI repository, we are going to use the superb [pandas](http://pandas.pydata.org) library. If you haven't used pandas yet, I want encourage you to check out the [pandas tutorials](http://pandas.pydata.org/pandas-docs/stable/tutorials.html). If I had to name one Python library that makes working with data a wonderfully simple task, this would definitely be pandas!"
   ]
  },
  {
   "cell_type": "code",
   "execution_count": 6,
   "metadata": {},
   "outputs": [
    {
     "data": {
      "text/html": [
       "<div>\n",
       "<style>\n",
       "    .dataframe thead tr:only-child th {\n",
       "        text-align: right;\n",
       "    }\n",
       "\n",
       "    .dataframe thead th {\n",
       "        text-align: left;\n",
       "    }\n",
       "\n",
       "    .dataframe tbody tr th {\n",
       "        vertical-align: top;\n",
       "    }\n",
       "</style>\n",
       "<table border=\"1\" class=\"dataframe\">\n",
       "  <thead>\n",
       "    <tr style=\"text-align: right;\">\n",
       "      <th></th>\n",
       "      <th>sepal_len</th>\n",
       "      <th>sepal_wid</th>\n",
       "      <th>petal_len</th>\n",
       "      <th>petal_wid</th>\n",
       "      <th>class</th>\n",
       "    </tr>\n",
       "  </thead>\n",
       "  <tbody>\n",
       "    <tr>\n",
       "      <th>0</th>\n",
       "      <td>5.1</td>\n",
       "      <td>3.5</td>\n",
       "      <td>1.4</td>\n",
       "      <td>0.2</td>\n",
       "      <td>Iris-setosa</td>\n",
       "    </tr>\n",
       "    <tr>\n",
       "      <th>1</th>\n",
       "      <td>4.9</td>\n",
       "      <td>3.0</td>\n",
       "      <td>1.4</td>\n",
       "      <td>0.2</td>\n",
       "      <td>Iris-setosa</td>\n",
       "    </tr>\n",
       "    <tr>\n",
       "      <th>2</th>\n",
       "      <td>4.7</td>\n",
       "      <td>3.2</td>\n",
       "      <td>1.3</td>\n",
       "      <td>0.2</td>\n",
       "      <td>Iris-setosa</td>\n",
       "    </tr>\n",
       "    <tr>\n",
       "      <th>3</th>\n",
       "      <td>4.6</td>\n",
       "      <td>3.1</td>\n",
       "      <td>1.5</td>\n",
       "      <td>0.2</td>\n",
       "      <td>Iris-setosa</td>\n",
       "    </tr>\n",
       "    <tr>\n",
       "      <th>4</th>\n",
       "      <td>5.0</td>\n",
       "      <td>3.6</td>\n",
       "      <td>1.4</td>\n",
       "      <td>0.2</td>\n",
       "      <td>Iris-setosa</td>\n",
       "    </tr>\n",
       "  </tbody>\n",
       "</table>\n",
       "</div>"
      ],
      "text/plain": [
       "   sepal_len  sepal_wid  petal_len  petal_wid        class\n",
       "0        5.1        3.5        1.4        0.2  Iris-setosa\n",
       "1        4.9        3.0        1.4        0.2  Iris-setosa\n",
       "2        4.7        3.2        1.3        0.2  Iris-setosa\n",
       "3        4.6        3.1        1.5        0.2  Iris-setosa\n",
       "4        5.0        3.6        1.4        0.2  Iris-setosa"
      ]
     },
     "execution_count": 6,
     "metadata": {},
     "output_type": "execute_result"
    }
   ],
   "source": [
    "import pandas as pd\n",
    "\n",
    "df = pd.read_csv(\n",
    "    filepath_or_buffer='https://archive.ics.uci.edu/ml/machine-learning-databases/iris/iris.data', \n",
    "    header=None, \n",
    "    sep=',')\n",
    "\n",
    "df.columns=['sepal_len', 'sepal_wid', 'petal_len', 'petal_wid', 'class']\n",
    "df.dropna(how=\"all\", inplace=True) # drops the empty line at file-end\n",
    "\n",
    "df.head()"
   ]
  },
  {
   "cell_type": "code",
   "execution_count": 7,
   "metadata": {},
   "outputs": [
    {
     "data": {
      "text/html": [
       "<div>\n",
       "<style>\n",
       "    .dataframe thead tr:only-child th {\n",
       "        text-align: right;\n",
       "    }\n",
       "\n",
       "    .dataframe thead th {\n",
       "        text-align: left;\n",
       "    }\n",
       "\n",
       "    .dataframe tbody tr th {\n",
       "        vertical-align: top;\n",
       "    }\n",
       "</style>\n",
       "<table border=\"1\" class=\"dataframe\">\n",
       "  <thead>\n",
       "    <tr style=\"text-align: right;\">\n",
       "      <th></th>\n",
       "      <th>sepal_len</th>\n",
       "      <th>sepal_wid</th>\n",
       "      <th>petal_len</th>\n",
       "      <th>petal_wid</th>\n",
       "      <th>class</th>\n",
       "    </tr>\n",
       "  </thead>\n",
       "  <tbody>\n",
       "    <tr>\n",
       "      <th>145</th>\n",
       "      <td>6.7</td>\n",
       "      <td>3.0</td>\n",
       "      <td>5.2</td>\n",
       "      <td>2.3</td>\n",
       "      <td>Iris-virginica</td>\n",
       "    </tr>\n",
       "    <tr>\n",
       "      <th>146</th>\n",
       "      <td>6.3</td>\n",
       "      <td>2.5</td>\n",
       "      <td>5.0</td>\n",
       "      <td>1.9</td>\n",
       "      <td>Iris-virginica</td>\n",
       "    </tr>\n",
       "    <tr>\n",
       "      <th>147</th>\n",
       "      <td>6.5</td>\n",
       "      <td>3.0</td>\n",
       "      <td>5.2</td>\n",
       "      <td>2.0</td>\n",
       "      <td>Iris-virginica</td>\n",
       "    </tr>\n",
       "    <tr>\n",
       "      <th>148</th>\n",
       "      <td>6.2</td>\n",
       "      <td>3.4</td>\n",
       "      <td>5.4</td>\n",
       "      <td>2.3</td>\n",
       "      <td>Iris-virginica</td>\n",
       "    </tr>\n",
       "    <tr>\n",
       "      <th>149</th>\n",
       "      <td>5.9</td>\n",
       "      <td>3.0</td>\n",
       "      <td>5.1</td>\n",
       "      <td>1.8</td>\n",
       "      <td>Iris-virginica</td>\n",
       "    </tr>\n",
       "  </tbody>\n",
       "</table>\n",
       "</div>"
      ],
      "text/plain": [
       "     sepal_len  sepal_wid  petal_len  petal_wid           class\n",
       "145        6.7        3.0        5.2        2.3  Iris-virginica\n",
       "146        6.3        2.5        5.0        1.9  Iris-virginica\n",
       "147        6.5        3.0        5.2        2.0  Iris-virginica\n",
       "148        6.2        3.4        5.4        2.3  Iris-virginica\n",
       "149        5.9        3.0        5.1        1.8  Iris-virginica"
      ]
     },
     "execution_count": 7,
     "metadata": {},
     "output_type": "execute_result"
    }
   ],
   "source": [
    "df.tail()"
   ]
  },
  {
   "cell_type": "code",
   "execution_count": 8,
   "metadata": {},
   "outputs": [
    {
     "name": "stderr",
     "output_type": "stream",
     "text": [
      "/home/astro7467/anaconda2/lib/python2.7/site-packages/ipykernel/__main__.py:3: DeprecationWarning: \n",
      ".ix is deprecated. Please use\n",
      ".loc for label based indexing or\n",
      ".iloc for positional indexing\n",
      "\n",
      "See the documentation here:\n",
      "http://pandas.pydata.org/pandas-docs/stable/indexing.html#ix-indexer-is-deprecated\n",
      "  app.launch_new_instance()\n"
     ]
    }
   ],
   "source": [
    "# split data table into data X and class labels y\n",
    "\n",
    "X = df.ix[:,0:4].values\n",
    "y = df.ix[:,4].values"
   ]
  },
  {
   "cell_type": "markdown",
   "metadata": {},
   "source": [
    "Our iris dataset is now stored in form of a  $150 \\times 4$ matrix where the columns are the different features, and every row represents a separate flower sample.\n",
    "Each sample row $\\mathbf{x}$ can be pictured as a 4-dimensional vector   \n",
    "\n",
    "\n",
    "$\\mathbf{x^T} = \\begin{pmatrix} x_1 \\\\ x_2 \\\\ x_3 \\\\ x_4 \\end{pmatrix} \n",
    "= \\begin{pmatrix} \\text{sepal length} \\\\ \\text{sepal width} \\\\\\text{petal length} \\\\ \\text{petal width} \\end{pmatrix}$"
   ]
  },
  {
   "cell_type": "markdown",
   "metadata": {},
   "source": [
    "<br>\n",
    "<br>"
   ]
  },
  {
   "cell_type": "markdown",
   "metadata": {},
   "source": [
    "### Exploratory Visualization"
   ]
  },
  {
   "cell_type": "markdown",
   "metadata": {},
   "source": [
    "[[back to top](#Sections)]"
   ]
  },
  {
   "cell_type": "markdown",
   "metadata": {},
   "source": [
    "To get a feeling for how the 3 different flower classes are distributes along the 4 different features, let us visualize them via histograms."
   ]
  },
  {
   "cell_type": "code",
   "execution_count": 46,
   "metadata": {},
   "outputs": [
    {
     "data": {
      "image/png": "[encoded data removed]",
      "text/plain": [
       "<matplotlib.figure.Figure at 0x7f35b639edd0>"
      ]
     },
     "metadata": {},
     "output_type": "display_data"
    }
   ],
   "source": [
    "from matplotlib import pyplot as plt\n",
    "import numpy as np\n",
    "import math\n",
    "\n",
    "%matplotlib inline\n",
    "\n",
    "label_dict = {1: 'Iris-Setosa',\n",
    "              2: 'Iris-Versicolor',\n",
    "              3: 'Iris-Virgnica'}\n",
    "\n",
    "feature_dict = {0: 'sepal length [cm]',\n",
    "                1: 'sepal width [cm]',\n",
    "                2: 'petal length [cm]',\n",
    "                3: 'petal width [cm]'}\n",
    "\n",
    "with plt.style.context('seaborn-whitegrid'):\n",
    "    plt.figure(figsize=(8, 6))\n",
    "    for cnt in range(4):\n",
    "        plt.subplot(2, 2, cnt+1)\n",
    "        for lab in ('Iris-setosa', 'Iris-versicolor', 'Iris-virginica'):\n",
    "            plt.hist(X[y==lab, cnt],\n",
    "                     label=lab,\n",
    "                     bins=10,\n",
    "                     alpha=0.3,)\n",
    "        plt.xlabel(feature_dict[cnt])\n",
    "    plt.legend(loc='upper right', fancybox=True, fontsize=8)\n",
    "\n",
    "    plt.tight_layout()\n",
    "    plt.show()"
   ]
  },
  {
   "cell_type": "markdown",
   "metadata": {},
   "source": [
    "<br>\n",
    "<br>"
   ]
  },
  {
   "cell_type": "markdown",
   "metadata": {},
   "source": [
    "### Standardizing"
   ]
  },
  {
   "cell_type": "markdown",
   "metadata": {},
   "source": [
    "[[back to top](#Sections)]"
   ]
  },
  {
   "cell_type": "markdown",
   "metadata": {},
   "source": [
    "Whether to standardize the data prior to a PCA on the covariance matrix depends on the measurement scales of the original features. Since PCA yields a feature subspace that maximizes the variance along the axes, it makes sense to standardize the data, especially, if it was measured on different scales. Although, all features in the Iris dataset were measured in centimeters, let us continue with the transformation of the data onto unit scale (mean=0 and variance=1), which is a requirement for the optimal performance of many machine learning algorithms."
   ]
  },
  {
   "cell_type": "code",
   "execution_count": 47,
   "metadata": {},
   "outputs": [
    {
     "data": {
      "text/plain": [
       "array([[-0.90068117,  1.03205722, -1.3412724 , -1.31297673],\n",
       "       [-1.14301691, -0.1249576 , -1.3412724 , -1.31297673],\n",
       "       [-1.38535265,  0.33784833, -1.39813811, -1.31297673],\n",
       "       [-1.50652052,  0.10644536, -1.2844067 , -1.31297673],\n",
       "       [-1.02184904,  1.26346019, -1.3412724 , -1.31297673]])"
      ]
     },
     "execution_count": 47,
     "metadata": {},
     "output_type": "execute_result"
    }
   ],
   "source": [
    "# TODO - use StandardScaler on our data\n",
    "# X_std = ...\n",
    "from sklearn.preprocessing import StandardScaler\n",
    "X_std = StandardScaler().fit_transform(X)\n",
    "X_std[:5]"
   ]
  },
  {
   "cell_type": "markdown",
   "metadata": {},
   "source": [
    "<br>\n",
    "<br>"
   ]
  },
  {
   "cell_type": "markdown",
   "metadata": {},
   "source": [
    "## 1 - Eigendecomposition - Computing Eigenvectors and Eigenvalues"
   ]
  },
  {
   "cell_type": "markdown",
   "metadata": {},
   "source": [
    "[[back to top](#Sections)]"
   ]
  },
  {
   "cell_type": "markdown",
   "metadata": {},
   "source": [
    "The eigenvectors and eigenvalues of a covariance (or correlation) matrix represent the \"core\" of a PCA: The eigenvectors (principal components) determine the directions of the new feature space, and the eigenvalues determine their magnitude. In other words, the eigenvalues explain the variance of the data along the new feature axes."
   ]
  },
  {
   "cell_type": "markdown",
   "metadata": {},
   "source": [
    "<br>\n",
    "<br>"
   ]
  },
  {
   "cell_type": "markdown",
   "metadata": {},
   "source": [
    "### Covariance Matrix"
   ]
  },
  {
   "cell_type": "markdown",
   "metadata": {},
   "source": [
    "[[back to top](#Sections)]"
   ]
  },
  {
   "cell_type": "markdown",
   "metadata": {},
   "source": [
    "The classic approach to PCA is to perform the eigendecomposition on the covariance matrix $\\Sigma$, which is a $d \\times d$ matrix where each element represents the covariance between two features. The covariance between two features is calculated as follows:\n",
    "\n",
    "$\\sigma_{jk} = \\frac{1}{n-1}\\sum_{i=1}^{N}\\left(  x_{ij}-\\bar{x}_j \\right)  \\left( x_{ik}-\\bar{x}_k \\right).$\n",
    "\n",
    "We can summarize the calculation of the covariance matrix via the following matrix equation:   \n",
    "$\\Sigma = \\frac{1}{n-1} \\left( (\\mathbf{X} - \\mathbf{\\bar{x}})^T\\;(\\mathbf{X} - \\mathbf{\\bar{x}}) \\right)$  \n",
    "where $\\mathbf{\\bar{x}}$ is the mean vector \n",
    "$\\mathbf{\\bar{x}} = \\sum\\limits_{k=1}^n x_{i}.$  \n",
    "The mean vector is a $d$-dimensional vector where each value in this vector represents the sample mean of a feature column in the dataset."
   ]
  },
  {
   "cell_type": "code",
   "execution_count": 48,
   "metadata": {},
   "outputs": [
    {
     "data": {
      "text/plain": [
       "array([[ 1.00671141, -0.11010327,  0.87760486,  0.82344326],\n",
       "       [-0.11010327,  1.00671141, -0.42333835, -0.358937  ],\n",
       "       [ 0.87760486, -0.42333835,  1.00671141,  0.96921855],\n",
       "       [ 0.82344326, -0.358937  ,  0.96921855,  1.00671141]])"
      ]
     },
     "execution_count": 48,
     "metadata": {},
     "output_type": "execute_result"
    }
   ],
   "source": [
    "import numpy as np\n",
    "\n",
    "# TODO - calculate covariance matrix\n",
    "# cov_mat = ...\n",
    "cov_mat = np.cov(X_std.T)\n",
    "cov_mat[:5]"
   ]
  },
  {
   "cell_type": "code",
   "execution_count": 49,
   "metadata": {},
   "outputs": [
    {
     "data": {
      "text/plain": [
       "array([[ 0.68569351, -0.03926846,  1.27368233,  0.5169038 ],\n",
       "       [-0.03926846,  0.18800403, -0.32171275, -0.11798121],\n",
       "       [ 1.27368233, -0.32171275,  3.11317942,  1.29638747],\n",
       "       [ 0.5169038 , -0.11798121,  1.29638747,  0.58241432]])"
      ]
     },
     "execution_count": 49,
     "metadata": {},
     "output_type": "execute_result"
    }
   ],
   "source": [
    "# for comparision with Standardized vs Non-Standardized\n",
    "cov_mat_nonstd = np.cov(X.T)\n",
    "cov_mat_nonstd[:5]"
   ]
  },
  {
   "cell_type": "markdown",
   "metadata": {},
   "source": [
    "The more verbose way above was simply used for demonstration purposes, equivalently, we could have used the numpy `cov` function:"
   ]
  },
  {
   "cell_type": "markdown",
   "metadata": {},
   "source": [
    "<br>\n",
    "<br>"
   ]
  },
  {
   "cell_type": "markdown",
   "metadata": {},
   "source": [
    "Next, we perform an eigendecomposition on the covariance matrix:"
   ]
  },
  {
   "cell_type": "code",
   "execution_count": 50,
   "metadata": {},
   "outputs": [
    {
     "name": "stdout",
     "output_type": "stream",
     "text": [
      "Eigenvectors \n",
      "[[ 0.52237162 -0.37231836 -0.72101681  0.26199559]\n",
      " [-0.26335492 -0.92555649  0.24203288 -0.12413481]\n",
      " [ 0.58125401 -0.02109478  0.14089226 -0.80115427]\n",
      " [ 0.56561105 -0.06541577  0.6338014   0.52354627]]\n",
      "\n",
      "Eigenvalues \n",
      "[ 2.93035378  0.92740362  0.14834223  0.02074601]\n"
     ]
    }
   ],
   "source": [
    "cov_mat = np.cov(X_std.T)\n",
    "\n",
    "# TODO - try np.linalg....\n",
    "eig_vals, eig_vecs = np.linalg.eig(cov_mat)\n",
    "\n",
    "print('Eigenvectors \\n%s' %eig_vecs)\n",
    "print('\\nEigenvalues \\n%s' %eig_vals)"
   ]
  },
  {
   "cell_type": "markdown",
   "metadata": {},
   "source": [
    "<br>\n",
    "<br>"
   ]
  },
  {
   "cell_type": "markdown",
   "metadata": {},
   "source": [
    "### Correlation Matrix"
   ]
  },
  {
   "cell_type": "markdown",
   "metadata": {},
   "source": [
    "[[back to top](#Sections)]"
   ]
  },
  {
   "cell_type": "markdown",
   "metadata": {},
   "source": [
    "Especially, in the field of \"Finance,\" the correlation matrix typically used instead of the covariance matrix. However, the eigendecomposition of the covariance matrix (if the input data was standardized) yields the same results as a eigendecomposition on the correlation matrix, since the correlation matrix can be understood as the normalized covariance matrix.\n",
    "\n",
    "\n",
    "TODO - See also [here](http://stats.stackexchange.com/questions/62677/pca-on-correlation-or-covariance-does-pca-on-correlation-ever-make-sense)"
   ]
  },
  {
   "cell_type": "markdown",
   "metadata": {},
   "source": [
    "<br>\n",
    "<br>"
   ]
  },
  {
   "cell_type": "markdown",
   "metadata": {},
   "source": [
    "Eigendecomposition of the standardized data based on the correlation matrix:"
   ]
  },
  {
   "cell_type": "code",
   "execution_count": 51,
   "metadata": {},
   "outputs": [
    {
     "name": "stdout",
     "output_type": "stream",
     "text": [
      "Eigenvectors \n",
      "[[ 0.52237162 -0.37231836 -0.72101681  0.26199559]\n",
      " [-0.26335492 -0.92555649  0.24203288 -0.12413481]\n",
      " [ 0.58125401 -0.02109478  0.14089226 -0.80115427]\n",
      " [ 0.56561105 -0.06541577  0.6338014   0.52354627]]\n",
      "\n",
      "Eigenvalues \n",
      "[ 2.93035378  0.92740362  0.14834223  0.02074601]\n"
     ]
    }
   ],
   "source": [
    "# TODO\n",
    "# cor_mat1 = ....\n",
    "\n",
    "cor_mat1 = np.cov(X_std.T)\n",
    "\n",
    "eig_vals, eig_vecs = np.linalg.eig(cor_mat1)\n",
    "\n",
    "print('Eigenvectors \\n%s' %eig_vecs)\n",
    "print('\\nEigenvalues \\n%s' %eig_vals)"
   ]
  },
  {
   "cell_type": "code",
   "execution_count": 52,
   "metadata": {},
   "outputs": [
    {
     "name": "stdout",
     "output_type": "stream",
     "text": [
      "Eigenvectors \n",
      "[[ 0.36158968 -0.65653988 -0.58099728  0.31725455]\n",
      " [-0.08226889 -0.72971237  0.59641809 -0.32409435]\n",
      " [ 0.85657211  0.1757674   0.07252408 -0.47971899]\n",
      " [ 0.35884393  0.07470647  0.54906091  0.75112056]]\n",
      "\n",
      "Eigenvalues \n",
      "[ 4.22484077  0.24224357  0.07852391  0.02368303]\n"
     ]
    }
   ],
   "source": [
    "# non-standardized for comparision\n",
    "\n",
    "eig_vals_nonstd, eig_vecs_nonstd = np.linalg.eig(cov_mat_nonstd)\n",
    "\n",
    "print('Eigenvectors \\n%s' %eig_vecs_nonstd)\n",
    "print('\\nEigenvalues \\n%s' %eig_vals_nonstd)"
   ]
  },
  {
   "cell_type": "markdown",
   "metadata": {},
   "source": [
    "<br>\n",
    "<br>"
   ]
  },
  {
   "cell_type": "markdown",
   "metadata": {},
   "source": [
    "Eigendecomposition of the raw data based on the correlation matrix:"
   ]
  },
  {
   "cell_type": "code",
   "execution_count": 53,
   "metadata": {},
   "outputs": [
    {
     "name": "stdout",
     "output_type": "stream",
     "text": [
      "Eigenvectors \n",
      "[[ 0.52237162 -0.37231836 -0.72101681  0.26199559]\n",
      " [-0.26335492 -0.92555649  0.24203288 -0.12413481]\n",
      " [ 0.58125401 -0.02109478  0.14089226 -0.80115427]\n",
      " [ 0.56561105 -0.06541577  0.6338014   0.52354627]]\n",
      "\n",
      "Eigenvalues \n",
      "[ 2.91081808  0.92122093  0.14735328  0.02060771]\n"
     ]
    }
   ],
   "source": [
    "import numpy as np\n",
    "\n",
    "# TODO \n",
    "# cor_mat2 = ...\n",
    "\n",
    "cor_mat2 = np.corrcoef(X.T)\n",
    "\n",
    "eig_vals, eig_vecs = np.linalg.eig(cor_mat2)\n",
    "\n",
    "\n",
    "print('Eigenvectors \\n%s' %eig_vecs)\n",
    "print('\\nEigenvalues \\n%s' %eig_vals)"
   ]
  },
  {
   "cell_type": "markdown",
   "metadata": {},
   "source": [
    "<br>\n",
    "<br>"
   ]
  },
  {
   "cell_type": "markdown",
   "metadata": {},
   "source": [
    "We can clearly see that all three approaches yield the same eigenvectors and eigenvalue pairs:\n",
    "    \n",
    "- Eigendecomposition of the covariance matrix after standardizing the data.\n",
    "- Eigendecomposition of the correlation matrix.\n",
    "- Eigendecomposition of the correlation matrix after standardizing the data."
   ]
  },
  {
   "cell_type": "markdown",
   "metadata": {},
   "source": [
    "<br>\n",
    "<br>"
   ]
  },
  {
   "cell_type": "markdown",
   "metadata": {},
   "source": [
    "### Singular Vector Decomposition"
   ]
  },
  {
   "cell_type": "markdown",
   "metadata": {},
   "source": [
    "[[back to top](#Sections)]"
   ]
  },
  {
   "cell_type": "code",
   "execution_count": 54,
   "metadata": {},
   "outputs": [
    {
     "data": {
      "text/plain": [
       "((150, 150), array([[ -1.08374515e-01,  -4.30198387e-02,   2.59377669e-02,\n",
       "           1.31235003e-02,  -9.44034161e-02,  -6.78181758e-02,\n",
       "          -1.32994065e-01,  -8.66330157e-02,  -1.33129651e-01,\n",
       "          -8.28166180e-02,  -5.58107491e-02,  -1.04783779e-01,\n",
       "          -9.15361369e-02,  -1.46618723e-01,  -3.02824884e-02,\n",
       "          -5.64886942e-02,  -7.48768503e-02,  -8.62083503e-02,\n",
       "          -3.01766457e-02,  -9.34522792e-02,  -4.32728143e-02,\n",
       "          -9.52149295e-02,  -1.41292955e-01,  -8.44396449e-02,\n",
       "          -9.94897732e-02,  -7.28568836e-02,  -9.43993793e-02,\n",
       "          -6.97204495e-02,  -6.84822522e-02,  -1.08735763e-01,\n",
       "          -9.57751816e-02,  -5.63331838e-02,  -8.29721285e-02,\n",
       "          -6.26320310e-02,  -8.28166180e-02,  -8.59212899e-02,\n",
       "          -4.33766386e-02,  -8.28166180e-02,  -1.37897186e-01,\n",
       "          -7.66752997e-02,  -9.79307350e-02,  -1.11684925e-01,\n",
       "          -1.43902918e-01,  -1.06933277e-01,  -9.11591208e-02,\n",
       "          -1.01067169e-01,  -8.69220945e-02,  -1.22222817e-01,\n",
       "          -6.57684651e-02,  -8.53948185e-02,   1.17810240e-01,\n",
       "           4.97690900e-02,   1.09619211e-01,  -1.21168725e-02,\n",
       "           7.35029382e-02,   1.60757343e-03,   3.55723293e-02,\n",
       "          -7.29221667e-02,   8.99888206e-02,  -6.05316689e-02,\n",
       "          -4.74236500e-02,   6.92235635e-04,   5.49711219e-02,\n",
       "           3.71993929e-02,  -2.72350262e-02,   8.56459515e-02,\n",
       "          -2.38869066e-02,   2.18060292e-02,   5.98823165e-02,\n",
       "          -3.98524599e-04,  -9.02203265e-03,   3.26150944e-02,\n",
       "           6.78901096e-02,   4.97332910e-02,   6.47793826e-02,\n",
       "           7.86911013e-02,   1.11670940e-01,   8.49402808e-02,\n",
       "           1.89468234e-02,   4.26316717e-03,  -9.11804342e-03,\n",
       "          -6.11719593e-03,   8.74565964e-03,   3.07750509e-02,\n",
       "          -4.38023387e-02,  -8.33021973e-04,   8.61744413e-02,\n",
       "           7.46035303e-02,  -2.14145489e-02,  -1.81226043e-02,\n",
       "          -9.30127945e-03,   3.24318584e-02,   1.35131941e-02,\n",
       "          -5.99615848e-02,  -1.06412827e-02,  -4.92664806e-03,\n",
       "          -6.68929834e-03,   4.48639505e-02,  -6.60691225e-02,\n",
       "          -5.45110111e-03,   1.56233764e-02,  -3.43692962e-03,\n",
       "           1.21591098e-01,   5.39347782e-02,   5.53146172e-02,\n",
       "           1.83732359e-01,  -8.81076219e-02,   1.65864619e-01,\n",
       "           1.09306443e-01,   9.79988919e-02,   4.64872373e-02,\n",
       "           5.98387039e-02,   8.46592755e-02,  -1.39190987e-02,\n",
       "          -3.02673761e-02,   2.57623101e-02,   6.90826758e-02,\n",
       "           1.66666301e-01,   2.01464512e-01,   4.87902276e-02,\n",
       "           8.26095649e-02,  -3.46500810e-02,   2.06225991e-01,\n",
       "           4.75878295e-02,   6.92222992e-02,   1.41604300e-01,\n",
       "           3.28625789e-02,   1.86637998e-02,   5.25988117e-02,\n",
       "           1.53611726e-01,   1.70530348e-01,   1.90818759e-01,\n",
       "           4.78332956e-02,   6.24108493e-02,   6.20900082e-02,\n",
       "           1.75335699e-01,   1.03273521e-02,   5.61220939e-02,\n",
       "           6.94141511e-03,   8.98494571e-02,   5.91668139e-02,\n",
       "           7.50244189e-02,  -3.43692962e-03,   7.61811861e-02,\n",
       "           5.01602347e-02,   5.98765213e-02,   5.05927137e-02,\n",
       "           5.42576376e-02,   1.60581494e-03,   2.27770498e-03],\n",
       "        [ -9.98503796e-02,   5.57547718e-02,   4.83370288e-02,\n",
       "           5.87021386e-02,   7.94181523e-02,   1.44121667e-01,\n",
       "           3.59072559e-02,   4.05004436e-02,  -6.50978377e-02,\n",
       "          -1.92906969e-02,   1.02588527e-01,   4.24761031e-02,\n",
       "          -4.21404870e-02,  -4.92429433e-02,   1.58108463e-01,\n",
       "           2.42831216e-01,   1.35364136e-01,   5.69951097e-02,\n",
       "           1.25865065e-01,   1.20845130e-01,   4.53066555e-02,\n",
       "           9.83152256e-02,   7.02331749e-02,   1.85034495e-02,\n",
       "           4.90442513e-02,  -3.95243568e-02,   3.87371094e-02,\n",
       "           6.12677125e-02,   3.85247840e-02,   1.26214994e-03,\n",
       "          -1.91845342e-02,   3.69751731e-02,   1.86565346e-01,\n",
       "           2.03273735e-01,  -1.92906969e-02,  -7.17479622e-03,\n",
       "           5.72095319e-02,  -1.92906969e-02,  -4.67336746e-02,\n",
       "           4.06073052e-02,   5.46988654e-02,  -1.92477992e-01,\n",
       "          -5.62658312e-03,   5.53379383e-02,   1.27626302e-01,\n",
       "          -4.60932039e-02,   1.25010871e-01,  -3.22347716e-03,\n",
       "           1.02481666e-01,   1.77575150e-02,   4.78745306e-02,\n",
       "           4.08782371e-02,   2.96165303e-02,  -1.52059626e-01,\n",
       "          -3.90397016e-02,  -3.81312604e-02,   6.37273283e-02,\n",
       "          -1.41543854e-01,  -1.44265774e-02,  -7.43317691e-02,\n",
       "          -2.19272410e-01,  -7.33131074e-03,  -1.66149789e-01,\n",
       "          -1.47478611e-02,  -3.73890209e-02,   2.04322518e-02,\n",
       "          -1.08374733e-03,  -6.14064002e-02,  -1.64870944e-01,\n",
       "          -1.09082339e-01,   4.09830019e-02,  -4.86507277e-02,\n",
       "          -9.43459139e-02,  -3.13486900e-02,  -2.12084488e-02,\n",
       "          -2.28155553e-04,  -3.23639929e-02,   7.08592718e-03,\n",
       "          -2.12098467e-02,  -9.52031040e-02,  -1.31932129e-01,\n",
       "          -1.32145153e-01,  -6.97378825e-02,  -5.11570002e-02,\n",
       "          -1.29747054e-03,   7.95815237e-02,   2.50240416e-02,\n",
       "          -1.42447202e-01,  -5.88856142e-03,  -1.10952535e-01,\n",
       "          -7.96650994e-02,   3.61630190e-03,  -8.81020456e-02,\n",
       "          -1.61990538e-01,  -6.53598160e-02,  -1.61595862e-03,\n",
       "          -2.41458628e-02,  -2.14221720e-02,  -1.29321092e-01,\n",
       "          -4.68887913e-02,   7.44020779e-02,  -5.72997987e-02,\n",
       "           1.93123845e-02,  -2.73512699e-03,   1.45054737e-02,\n",
       "           3.51723718e-02,  -1.08552224e-01,   1.36591683e-02,\n",
       "          -8.01430981e-02,   1.39213852e-01,   4.42396029e-02,\n",
       "          -5.22798636e-02,   1.02342687e-02,  -1.02679493e-01,\n",
       "          -4.66280452e-02,   4.25824314e-02,   1.58427592e-02,\n",
       "           1.99920624e-01,  -4.43195183e-02,  -1.54137753e-01,\n",
       "           5.18742705e-02,  -4.33151001e-02,  -1.66211695e-03,\n",
       "          -5.91678977e-02,   7.61668099e-02,   6.86447958e-02,\n",
       "          -4.09105963e-02,   2.27901635e-03,  -2.91108865e-02,\n",
       "           2.71116556e-02,  -1.31426398e-02,   1.97518916e-01,\n",
       "          -3.10872449e-02,  -2.83065111e-02,  -5.67040537e-02,\n",
       "           2.03796028e-02,   8.81744512e-02,   3.62894434e-02,\n",
       "          -1.72280041e-05,   2.87052934e-02,   2.69412603e-02,\n",
       "           1.81844282e-02,  -5.72997987e-02,   5.61461743e-02,\n",
       "           6.82613761e-02,  -3.93458005e-04,  -1.00061965e-01,\n",
       "           5.32189412e-03,   8.56651825e-02,   6.44405862e-03],\n",
       "        [ -1.13323362e-01,   2.70926177e-02,  -1.09498919e-02,\n",
       "           1.58262571e-02,  -3.00538708e-02,  -3.67674802e-02,\n",
       "           2.87875971e-02,  -4.69638402e-02,  -6.74615994e-04,\n",
       "          -6.88991563e-02,  -9.13968890e-02,   1.05211606e-02,\n",
       "          -7.44242113e-02,  -1.69627858e-03,  -1.74548794e-01,\n",
       "          -5.49074872e-02,  -8.83926215e-02,  -6.77510642e-02,\n",
       "          -1.18043972e-01,  -1.01203967e-02,  -1.10308700e-01,\n",
       "          -2.55282324e-02,   7.47841885e-03,  -5.98478795e-02,\n",
       "           4.92400165e-02,  -9.36900644e-02,  -3.50569714e-02,\n",
       "          -7.66344283e-02,  -1.04448841e-01,   2.99426355e-03,\n",
       "          -3.42032215e-02,  -1.37120688e-01,   1.33140442e-02,\n",
       "          -5.20518952e-02,  -6.88991563e-02,  -1.15498951e-01,\n",
       "          -1.69315072e-01,  -6.88991563e-02,   1.32722606e-03,\n",
       "          -6.92531979e-02,  -5.83679917e-02,  -1.25818732e-01,\n",
       "           3.11434808e-02,  -2.11482606e-02,   4.10050362e-02,\n",
       "          -7.54236278e-02,   3.28559684e-03,  -5.28949351e-04,\n",
       "          -6.91075313e-02,  -7.47782529e-02,  -1.15562619e-01,\n",
       "          -8.13875118e-03,  -8.28685259e-02,  -5.23968796e-03,\n",
       "          -7.71543331e-02,   8.92536600e-02,   5.43715963e-02,\n",
       "           5.45597134e-02,  -8.35361469e-02,   1.07854901e-01,\n",
       "          -1.54958319e-03,   3.47729268e-02,  -1.30095479e-01,\n",
       "           4.03172188e-02,   1.02945772e-02,  -1.02321529e-01,\n",
       "           1.40359856e-01,   1.93015844e-03,  -1.12641309e-01,\n",
       "          -9.61965973e-03,   1.40527769e-01,  -6.44351975e-02,\n",
       "          -3.85811438e-02,   2.64085080e-02,  -7.76762874e-02,\n",
       "          -9.49402984e-02,  -1.17710127e-01,  -4.12910691e-02,\n",
       "           3.62942976e-02,  -6.81263231e-02,  -1.51447147e-02,\n",
       "          -2.75512917e-02,  -2.48818287e-02,   8.34160465e-02,\n",
       "           1.84938571e-01,   1.10335226e-01,  -6.41023811e-02,\n",
       "          -1.31929409e-01,   8.97341312e-02,   2.45765668e-02,\n",
       "           9.16095437e-02,   4.23190609e-02,  -2.68836708e-02,\n",
       "           1.73622283e-02,   5.79160344e-02,   8.08507670e-02,\n",
       "           6.54429314e-02,  -3.30975719e-02,  -1.43294389e-02,\n",
       "           3.76285187e-02,   2.17655931e-01,   1.26495637e-01,\n",
       "          -1.62907652e-02,   1.09896238e-01,   1.04039388e-01,\n",
       "          -3.73935566e-02,   2.20845307e-01,  -2.26533420e-02,\n",
       "          -1.30811316e-02,   7.46823788e-02,   4.45110616e-02,\n",
       "           1.85720614e-02,  -1.04783328e-03,   1.05562747e-01,\n",
       "           1.38905223e-01,   9.11138652e-02,   6.73193647e-02,\n",
       "           7.19886816e-02,  -8.15959844e-02,  -3.53116735e-03,\n",
       "           3.12922178e-02,   1.59670201e-01,  -7.60931755e-02,\n",
       "          -1.02640138e-02,   9.17784772e-02,   5.64154192e-03,\n",
       "           1.40271860e-02,   7.90390837e-02,   7.11996282e-02,\n",
       "          -4.89878669e-02,  -8.61631060e-02,  -1.03094733e-02,\n",
       "           7.06999199e-02,   3.19558090e-02,   1.11749405e-01,\n",
       "          -1.25213757e-01,   1.81438625e-01,   1.04516850e-01,\n",
       "           8.84221561e-02,  -2.13353490e-02,   4.75568123e-02,\n",
       "          -6.10536214e-02,   1.26495637e-01,   7.93941462e-02,\n",
       "           8.97796441e-02,  -1.84767480e-02,  -2.76736915e-02,\n",
       "           2.76010922e-02,   1.78415121e-01,   1.49430370e-01],\n",
       "        [ -1.10272311e-01,   4.89460849e-02,  -2.10279545e-02,\n",
       "          -3.77162180e-02,  -3.28727142e-02,  -2.84435515e-03,\n",
       "          -1.20617622e-02,  -3.63844880e-02,  -2.76071128e-02,\n",
       "          -6.07015882e-02,  -2.41065900e-02,  -7.91906384e-02,\n",
       "          -3.89450854e-02,  -2.24429329e-02,   5.55445054e-02,\n",
       "           2.52288401e-02,   8.69865747e-02,   2.93363034e-02,\n",
       "          -5.41057811e-03,  -2.15403671e-02,  -4.06031170e-02,\n",
       "           3.04944415e-02,   1.62613798e-02,   6.60327231e-02,\n",
       "          -1.46563836e-01,  -2.09503032e-02,   2.62814380e-02,\n",
       "          -2.55090493e-02,   6.42166246e-03,  -7.04188888e-02,\n",
       "          -5.07717005e-02,   8.94360064e-02,  -1.24908755e-01,\n",
       "          -3.88395452e-02,  -6.07015882e-02,   4.99346681e-02,\n",
       "           4.99290426e-02,  -6.07015882e-02,  -1.46223596e-02,\n",
       "          -2.62102790e-02,   4.16198269e-02,   1.04424534e-01,\n",
       "          -3.35683183e-02,   1.01932117e-01,  -6.88094677e-02,\n",
       "           4.61785731e-02,  -8.65599288e-02,  -3.56776328e-02,\n",
       "          -3.42807990e-02,  -4.45377618e-03,  -2.18598381e-02,\n",
       "           4.57220220e-03,  -2.49147035e-02,   2.54261392e-02,\n",
       "           3.01805960e-02,  -1.13879002e-01,  -1.74286218e-02,\n",
       "          -1.55734544e-02,  -5.42418328e-02,   2.20311566e-02,\n",
       "          -1.24227931e-02,   4.00203134e-02,  -4.19153243e-02,\n",
       "          -8.50087810e-02,   6.85934021e-02,   2.44637117e-02,\n",
       "          -5.78755110e-02,  -1.32086371e-01,   7.89535775e-02,\n",
       "          -4.60115365e-02,   1.40134476e-02,   3.91064965e-02,\n",
       "          -2.91220814e-02,  -1.60659460e-01,  -7.21705334e-03,\n",
       "           2.37624821e-02,  -2.67740712e-02,   2.68757839e-02,\n",
       "          -7.70569576e-03,   1.95879385e-03,  -2.42550337e-02,\n",
       "          -4.43591304e-02,  -2.04724793e-03,  -8.09443027e-02,\n",
       "          -7.82239290e-02,  -1.25087631e-02,  -3.47656478e-04,\n",
       "           1.69888811e-02,  -5.31682396e-02,   6.48018053e-03,\n",
       "          -1.35385558e-01,  -7.20240278e-02,  -1.50320011e-02,\n",
       "           4.07373388e-03,  -4.72070341e-02,  -1.08013592e-01,\n",
       "          -5.59787838e-02,  -2.75654713e-02,   1.05237011e-01,\n",
       "          -2.40480720e-02,   7.36773191e-02,   2.63927670e-02,\n",
       "           3.57003445e-02,  -9.65326383e-02,   3.96746523e-02,\n",
       "          -7.06327379e-02,   3.39358118e-03,  -1.51994676e-01,\n",
       "          -6.28593501e-02,   1.14368529e-01,   9.28091625e-02,\n",
       "           4.25225559e-02,   9.50086474e-02,   1.00184078e-01,\n",
       "           2.29728934e-01,   1.65404976e-01,  -6.31994672e-02,\n",
       "          -1.16138267e-01,  -4.81615062e-03,  -5.36835029e-02,\n",
       "           1.26445091e-01,   8.40486639e-02,  -1.06532132e-01,\n",
       "           7.96174476e-02,   1.15000355e-02,  -1.23214625e-01,\n",
       "           8.24279918e-02,   3.08500917e-02,   5.08000377e-02,\n",
       "          -1.44476860e-01,  -4.48701933e-02,  -1.13540310e-01,\n",
       "           9.33618669e-02,  -1.02456484e-01,  -2.58709435e-01,\n",
       "           1.36953792e-01,   1.11473440e-01,  -8.28466555e-02,\n",
       "           4.31336152e-02,   1.18167610e-01,   1.80589214e-01,\n",
       "           2.70664465e-01,   2.63927670e-02,   7.13554173e-02,\n",
       "           1.81747352e-01,   2.37331294e-01,   1.18667503e-01,\n",
       "           8.92973887e-02,   1.03652867e-01,  -3.44137912e-02],\n",
       "        [ -1.14320085e-01,  -5.74019389e-02,  -4.55777672e-03,\n",
       "          -2.12705946e-02,   9.84201153e-01,  -1.87003283e-02,\n",
       "          -1.35440601e-02,  -1.22127015e-02,  -5.74101041e-03,\n",
       "          -7.70777626e-03,  -1.56742889e-02,  -1.37073998e-02,\n",
       "          -6.04961499e-03,  -8.10215675e-03,  -1.82172197e-02,\n",
       "          -2.60360817e-02,  -1.74754527e-02,  -1.25190437e-02,\n",
       "          -1.57108084e-02,  -1.86638088e-02,  -1.04481805e-02,\n",
       "          -1.59782454e-02,  -1.69509299e-02,  -8.06657370e-03,\n",
       "          -1.46260565e-02,  -4.73419213e-03,  -1.10401578e-02,\n",
       "          -1.29704042e-02,  -1.07180032e-02,  -1.04092753e-02,\n",
       "          -7.86885358e-03,  -8.35698017e-03,  -2.53868778e-02,\n",
       "          -2.45047407e-02,  -7.70777626e-03,  -7.40168066e-03,\n",
       "          -1.05752473e-02,  -7.70777626e-03,  -7.38097358e-03,\n",
       "          -1.16184618e-02,  -1.28070645e-02,   7.57592184e-03,\n",
       "          -1.12733377e-02,  -1.15075773e-02,  -1.91493031e-02,\n",
       "          -4.57085244e-03,  -1.97094090e-02,  -1.03910772e-02,\n",
       "          -1.62685286e-02,  -9.96030053e-03,   2.63802701e-03,\n",
       "           4.24407941e-04,   4.11691286e-03,   1.26442212e-02,\n",
       "           8.49715699e-03,   2.57069581e-03,  -1.98907034e-03,\n",
       "           7.05798950e-03,   5.66645206e-03,   4.12237409e-03,\n",
       "           1.48245197e-02,   2.26423031e-03,   1.53434579e-02,\n",
       "           3.12841599e-03,   2.78624415e-03,   3.72014670e-03,\n",
       "          -4.37145457e-04,   4.11784933e-03,   1.86977492e-02,\n",
       "           8.17355315e-03,  -1.24730338e-03,   6.47874907e-03,\n",
       "           1.22285671e-02,   3.59583550e-03,   5.39662938e-03,\n",
       "           5.07208907e-03,   8.92805699e-03,   6.04715920e-03,\n",
       "           3.88599537e-03,   7.30710510e-03,   9.83171443e-03,\n",
       "           9.39855205e-03,   6.20904968e-03,   6.68042738e-03,\n",
       "          -1.62562484e-03,  -5.10553367e-03,   3.54087128e-03,\n",
       "           1.61732632e-02,  -6.91032415e-04,   8.75185712e-03,\n",
       "           4.84141818e-03,   1.48845282e-03,   7.84901285e-03,\n",
       "           9.59841126e-03,   4.84129488e-03,  -1.14239290e-03,\n",
       "           1.54317044e-03,   4.20815000e-03,   7.95832479e-03,\n",
       "           3.79557141e-03,   6.84515472e-04,   7.71009183e-03,\n",
       "           8.62567298e-03,   4.51845038e-03,   6.10583501e-03,\n",
       "           9.45333914e-03,   6.61284959e-03,   8.31731500e-03,\n",
       "           1.40676996e-02,  -1.12092404e-04,   2.87824062e-03,\n",
       "           1.06630922e-02,   8.06782951e-03,   1.20538165e-02,\n",
       "           9.46081616e-03,   3.88970697e-03,   4.06696660e-03,\n",
       "          -5.08871531e-03,   1.83924129e-02,   1.59781753e-02,\n",
       "           5.63602983e-03,   5.92724946e-03,   1.28943428e-02,\n",
       "           1.05543468e-02,   1.02260582e-03,   2.80318581e-03,\n",
       "           8.32014395e-03,   3.52732123e-03,   9.27701597e-03,\n",
       "           5.82922518e-03,   1.22095558e-02,  -4.46034178e-03,\n",
       "           1.00163973e-02,   5.77758311e-03,   6.21099209e-03,\n",
       "           1.30574359e-02,  -7.76172273e-04,   1.52654484e-03,\n",
       "           3.23930044e-03,   7.02210603e-03,   7.43933269e-03,\n",
       "           9.41952529e-03,   7.71009183e-03,   4.42935234e-03,\n",
       "           3.98013093e-03,   9.87100907e-03,   1.48798733e-02,\n",
       "           6.46438585e-03,  -1.49735544e-03,   1.72640405e-03]]))"
      ]
     },
     "execution_count": 54,
     "metadata": {},
     "output_type": "execute_result"
    }
   ],
   "source": [
    "# TODO - SVD on X_std\n",
    "# Whare are the three matrices again?\n",
    "# u,s,v = ...\n",
    "\n",
    "u,s,v = np.linalg.svd(X_std)\n",
    "\n",
    "u.shape, u[:5]"
   ]
  },
  {
   "cell_type": "code",
   "execution_count": 55,
   "metadata": {},
   "outputs": [
    {
     "data": {
      "text/plain": [
       "((4,), array([ 20.89551896,  11.75513248,   4.7013819 ,   1.75816839]))"
      ]
     },
     "execution_count": 55,
     "metadata": {},
     "output_type": "execute_result"
    }
   ],
   "source": [
    "s.shape, s[:5]"
   ]
  },
  {
   "cell_type": "code",
   "execution_count": 56,
   "metadata": {},
   "outputs": [
    {
     "data": {
      "text/plain": [
       "((4, 4), array([[ 0.52237162, -0.26335492,  0.58125401,  0.56561105],\n",
       "        [-0.37231836, -0.92555649, -0.02109478, -0.06541577],\n",
       "        [ 0.72101681, -0.24203288, -0.14089226, -0.6338014 ],\n",
       "        [ 0.26199559, -0.12413481, -0.80115427,  0.52354627]]))"
      ]
     },
     "execution_count": 56,
     "metadata": {},
     "output_type": "execute_result"
    }
   ],
   "source": [
    "v.shape, v[:5]"
   ]
  },
  {
   "cell_type": "markdown",
   "metadata": {},
   "source": [
    "While the eigendecomposition of the covariance or correlation matrix may be more intuitiuve, most PCA implementations perform a Singular Vector Decomposition (SVD) to improve the computational efficiency. So, let us perform an SVD to  confirm that the result are indeed the same:"
   ]
  },
  {
   "cell_type": "code",
   "execution_count": 57,
   "metadata": {},
   "outputs": [
    {
     "data": {
      "text/plain": [
       "array([ 20.89551896])"
      ]
     },
     "execution_count": 57,
     "metadata": {},
     "output_type": "execute_result"
    }
   ],
   "source": [
    "from sklearn.utils.extmath import randomized_svd\n",
    "U, Sigma, VT = randomized_svd(X_std, n_components=1)\n",
    "\n",
    "Sigma"
   ]
  },
  {
   "cell_type": "markdown",
   "metadata": {},
   "source": [
    "## 2 - Selecting Principal Components"
   ]
  },
  {
   "cell_type": "markdown",
   "metadata": {},
   "source": [
    "[[back to top](#Sections)]"
   ]
  },
  {
   "cell_type": "markdown",
   "metadata": {},
   "source": [
    "<br>\n",
    "<br>"
   ]
  },
  {
   "cell_type": "markdown",
   "metadata": {},
   "source": [
    "### Sorting Eigenpairs"
   ]
  },
  {
   "cell_type": "markdown",
   "metadata": {},
   "source": [
    "[[back to top](#Sections)]"
   ]
  },
  {
   "cell_type": "markdown",
   "metadata": {},
   "source": [
    "The typical goal of a PCA is to reduce the dimensionality of the original feature space by projecting it onto a smaller subspace, where the eigenvectors will form the axes. However, the eigenvectors only define the directions of the new axis, since they have all the same unit length 1, which can confirmed by the following two lines of code:"
   ]
  },
  {
   "cell_type": "code",
   "execution_count": 58,
   "metadata": {},
   "outputs": [
    {
     "name": "stdout",
     "output_type": "stream",
     "text": [
      "Everything ok!\n"
     ]
    }
   ],
   "source": [
    "for ev in eig_vecs:\n",
    "    np.testing.assert_array_almost_equal(1.0, np.linalg.norm(ev))\n",
    "print('Everything ok!')"
   ]
  },
  {
   "cell_type": "markdown",
   "metadata": {},
   "source": [
    "<br>\n",
    "<br>"
   ]
  },
  {
   "cell_type": "markdown",
   "metadata": {},
   "source": [
    "In order to decide which eigenvector(s) can dropped without losing too much information\n",
    "for the construction of lower-dimensional subspace, we need to inspect the corresponding eigenvalues: The eigenvectors with the lowest eigenvalues bear the least information about the distribution of the data; those are the ones can be dropped.  \n",
    "In order to do so, the common approach is to rank the eigenvalues from highest to lowest in order choose the top $k$ eigenvectors."
   ]
  },
  {
   "cell_type": "code",
   "execution_count": 59,
   "metadata": {},
   "outputs": [
    {
     "name": "stdout",
     "output_type": "stream",
     "text": [
      "Eigenvalues in descending order:\n",
      "2.91081808375\n",
      "0.921220930707\n",
      "0.147353278305\n",
      "0.0206077072356\n"
     ]
    }
   ],
   "source": [
    "# Make a list of (eigenvalue, eigenvector) tuples\n",
    "eig_pairs = [(np.abs(eig_vals[i]), eig_vecs[:,i]) for i in range(len(eig_vals))]\n",
    "\n",
    "# Sort the (eigenvalue, eigenvector) tuples from high to low\n",
    "eig_pairs.sort()\n",
    "eig_pairs.reverse()\n",
    "\n",
    "# Visually confirm that the list is correctly sorted by decreasing eigenvalues\n",
    "print('Eigenvalues in descending order:')\n",
    "for i in eig_pairs:\n",
    "    print(i[0])"
   ]
  },
  {
   "cell_type": "markdown",
   "metadata": {},
   "source": [
    "<br>\n",
    "<br>"
   ]
  },
  {
   "cell_type": "markdown",
   "metadata": {},
   "source": [
    "### Explained Variance"
   ]
  },
  {
   "cell_type": "markdown",
   "metadata": {},
   "source": [
    "[[back to top](#Sections)]"
   ]
  },
  {
   "cell_type": "markdown",
   "metadata": {},
   "source": [
    "After sorting the eigenpairs, the next question is \"how many principal components are we going to choose for our new feature subspace?\" A useful measure is the so-called \"explained variance,\" which can be calculated from the eigenvalues. The explained variance tells us how much information (variance) can be attributed to each of the principal components."
   ]
  },
  {
   "cell_type": "code",
   "execution_count": 60,
   "metadata": {
    "collapsed": true
   },
   "outputs": [],
   "source": [
    "tot = sum(eig_vals)\n",
    "var_exp = [(i / tot)*100 for i in sorted(eig_vals, reverse=True)]\n",
    "cum_var_exp = np.cumsum(var_exp)"
   ]
  },
  {
   "cell_type": "code",
   "execution_count": 61,
   "metadata": {},
   "outputs": [
    {
     "data": {
      "image/png": "[encoded data removed]",
      "text/plain": [
       "<matplotlib.figure.Figure at 0x7f35b39b0f50>"
      ]
     },
     "metadata": {},
     "output_type": "display_data"
    }
   ],
   "source": [
    "with plt.style.context('seaborn-whitegrid'):\n",
    "    plt.figure(figsize=(6, 4))\n",
    "\n",
    "    plt.bar(range(4), var_exp, alpha=0.5, align='center',\n",
    "            label='individual explained variance')\n",
    "    plt.step(range(4), cum_var_exp, where='mid',\n",
    "             label='cumulative explained variance')\n",
    "    plt.ylabel('Explained variance ratio')\n",
    "    plt.xlabel('Principal components')\n",
    "    plt.legend(loc='best')\n",
    "    plt.tight_layout()"
   ]
  },
  {
   "cell_type": "markdown",
   "metadata": {},
   "source": [
    "The plot above clearly shows that most of the variance (72.77% of the variance to be precise) can be explained by the first principal component alone. The second principal component still bears some information (23.03%) while the third and fourth principal components can safely be dropped without losing to much information. Together, the first two principal components contain 95.8% of the information."
   ]
  },
  {
   "cell_type": "markdown",
   "metadata": {},
   "source": [
    "<br>\n",
    "<br>"
   ]
  },
  {
   "cell_type": "markdown",
   "metadata": {},
   "source": [
    "### Projection Matrix"
   ]
  },
  {
   "cell_type": "markdown",
   "metadata": {},
   "source": [
    "[[back to top](#Sections)]"
   ]
  },
  {
   "cell_type": "markdown",
   "metadata": {},
   "source": [
    "It's about time to get to the really interesting part: The construction of the projection matrix that will be used to transform the Iris data onto the new feature subspace. Although, the name \"projection matrix\" has a nice ring to it, it is basically just a matrix of our concatenated top *k* eigenvectors.\n",
    "\n",
    "Here, we are reducing the 4-dimensional feature space to a 2-dimensional feature subspace, by choosing the \"top 2\" eigenvectors with the highest eigenvalues to construct our $d \\times k$-dimensional eigenvector matrix $\\mathbf{W}$."
   ]
  },
  {
   "cell_type": "code",
   "execution_count": 62,
   "metadata": {},
   "outputs": [
    {
     "name": "stdout",
     "output_type": "stream",
     "text": [
      "('Matrix W:\\n', array([[ 0.52237162, -0.37231836],\n",
      "       [-0.26335492, -0.92555649],\n",
      "       [ 0.58125401, -0.02109478],\n",
      "       [ 0.56561105, -0.06541577]]))\n"
     ]
    }
   ],
   "source": [
    "matrix_w = np.hstack((eig_pairs[0][1].reshape(4,1), \n",
    "                      eig_pairs[1][1].reshape(4,1)))\n",
    "\n",
    "print('Matrix W:\\n', matrix_w)"
   ]
  },
  {
   "cell_type": "markdown",
   "metadata": {},
   "source": [
    "<br>\n",
    "<br>"
   ]
  },
  {
   "cell_type": "markdown",
   "metadata": {},
   "source": [
    "## 3 - Projection Onto the New Feature Space"
   ]
  },
  {
   "cell_type": "markdown",
   "metadata": {},
   "source": [
    "[[back to top](#Sections)]"
   ]
  },
  {
   "cell_type": "markdown",
   "metadata": {},
   "source": [
    "In this last step we will use the $4 \\times 2$-dimensional projection matrix $\\mathbf{W}$ to transform our samples onto the new subspace via the equation  \n",
    "$\\mathbf{Y} = \\mathbf{X} \\times  \\mathbf{W}$, where $\\mathbf{Y}$ is a $150\\times 2$ matrix of our transformed samples."
   ]
  },
  {
   "cell_type": "code",
   "execution_count": 63,
   "metadata": {},
   "outputs": [],
   "source": [
    "Y = X_std.dot(matrix_w)"
   ]
  },
  {
   "cell_type": "code",
   "execution_count": 65,
   "metadata": {},
   "outputs": [
    {
     "data": {
      "image/png": "[encoded data removed]",
      "text/plain": [
       "<matplotlib.figure.Figure at 0x7f35ade83a50>"
      ]
     },
     "metadata": {},
     "output_type": "display_data"
    }
   ],
   "source": [
    "#from seaborn import plt\n",
    "with plt.style.context('seaborn-whitegrid'):\n",
    "    plt.figure(figsize=(6, 4))\n",
    "    for lab, col in zip(('Iris-setosa', 'Iris-versicolor', 'Iris-virginica'), \n",
    "                        ('blue', 'red', 'green')):\n",
    "        plt.scatter(Y[y==lab, 0],\n",
    "                    Y[y==lab, 1],\n",
    "                    label=lab,\n",
    "                    c=col)\n",
    "    plt.xlabel('Principal Component 1')\n",
    "    plt.ylabel('Principal Component 2')\n",
    "    plt.legend(loc='lower center')\n",
    "    plt.tight_layout()\n",
    "    plt.show()"
   ]
  },
  {
   "cell_type": "markdown",
   "metadata": {},
   "source": [
    "<br>\n",
    "<br>\n",
    "<a name=\"mat_pca\"></a>"
   ]
  },
  {
   "cell_type": "markdown",
   "metadata": {},
   "source": [
    "<br>\n",
    "<br>\n",
    "<a name=\"sklearn_pca\"> </a>"
   ]
  },
  {
   "cell_type": "markdown",
   "metadata": {},
   "source": [
    "## Shortcut - PCA in scikit-learn"
   ]
  },
  {
   "cell_type": "markdown",
   "metadata": {},
   "source": [
    "[[back to top](#Sections)]"
   ]
  },
  {
   "cell_type": "markdown",
   "metadata": {},
   "source": [
    "For educational purposes, we went a long way to apply the PCA to the Iris dataset. But luckily, there is already implementation in scikit-learn. "
   ]
  },
  {
   "cell_type": "code",
   "execution_count": 66,
   "metadata": {},
   "outputs": [],
   "source": [
    "# TODO - use sklearn's PCA with 2 components\n",
    "# ...\n",
    "# sklearn_pca = ...\n",
    "# THEN call fit_transform on the standardised data\n",
    "# Y_sklearn = ...\n",
    "from sklearn.decomposition import PCA as sklearnPCA\n",
    "sklearn_pca = sklearnPCA(n_components=2)\n",
    "Y_sklearn = sklearn_pca.fit_transform(X_std)"
   ]
  },
  {
   "cell_type": "code",
   "execution_count": 67,
   "metadata": {},
   "outputs": [
    {
     "data": {
      "image/png": "[encoded data removed]",
      "text/plain": [
       "<matplotlib.figure.Figure at 0x7f3591dbf650>"
      ]
     },
     "metadata": {},
     "output_type": "display_data"
    }
   ],
   "source": [
    "with plt.style.context('seaborn-whitegrid'):\n",
    "    plt.figure(figsize=(6, 4))\n",
    "    for lab, col in zip(('Iris-setosa', 'Iris-versicolor', 'Iris-virginica'), \n",
    "                        ('blue', 'red', 'green')):\n",
    "        plt.scatter(Y_sklearn[y==lab, 0],\n",
    "                    Y_sklearn[y==lab, 1],\n",
    "                    label=lab,\n",
    "                    c=col)\n",
    "    plt.xlabel('Principal Component 1')\n",
    "    plt.ylabel('Principal Component 2')\n",
    "    plt.legend(loc='lower center')\n",
    "    plt.tight_layout()\n",
    "    plt.show()"
   ]
  },
  {
   "cell_type": "code",
   "execution_count": null,
   "metadata": {
    "collapsed": true
   },
   "outputs": [],
   "source": []
  }
 ],
 "metadata": {
  "kernelspec": {
   "display_name": "Python [default]",
   "language": "python",
   "name": "python2"
  },
  "language_info": {
   "codemirror_mode": {
    "name": "ipython",
    "version": 2
   },
   "file_extension": ".py",
   "mimetype": "text/x-python",
   "name": "python",
   "nbconvert_exporter": "python",
   "pygments_lexer": "ipython2",
   "version": "2.7.13"
  }
 },
 "nbformat": 4,
 "nbformat_minor": 1
}
