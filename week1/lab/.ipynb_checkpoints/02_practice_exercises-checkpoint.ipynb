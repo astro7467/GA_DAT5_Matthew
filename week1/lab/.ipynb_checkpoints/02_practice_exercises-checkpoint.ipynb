{
 "cells": [
  {
   "cell_type": "markdown",
   "metadata": {},
   "source": [
    "# This notebooks has a number of problems to help you get better at Python"
   ]
  },
  {
   "cell_type": "markdown",
   "metadata": {},
   "source": [
    "### Problem 1: Write a function to convert miles to Kilo Meters\n",
    "\n",
    "Hint: 1 mile = 1.6 km"
   ]
  },
  {
   "cell_type": "code",
   "execution_count": 1,
   "metadata": {
    "collapsed": true
   },
   "outputs": [],
   "source": [
    "# Code the following function\n",
    "def convert_to_km(miles):\n",
    "    '''Returns km value for miles.\n",
    "    '''\n",
    "    return miles * 1.6\n"
   ]
  },
  {
   "cell_type": "code",
   "execution_count": 2,
   "metadata": {},
   "outputs": [
    {
     "data": {
      "text/plain": [
       "1.6"
      ]
     },
     "execution_count": 2,
     "metadata": {},
     "output_type": "execute_result"
    }
   ],
   "source": [
    "convert_to_km(1)\n"
   ]
  },
  {
   "cell_type": "code",
   "execution_count": 3,
   "metadata": {
    "collapsed": true
   },
   "outputs": [],
   "source": [
    "# If your code is right, the following asserts would succeed, otherwise, you will get a Traceback error\n",
    "# If you get an error, go back to above code and modify and try again.\n",
    "assert(convert_to_km(0) == 0)\n",
    "assert(convert_to_km(1) == 1.6)\n",
    "assert(convert_to_km(2) == 3.2)\n",
    "assert(convert_to_km(1.25) == 2.0)\n",
    "\n"
   ]
  },
  {
   "cell_type": "markdown",
   "metadata": {},
   "source": [
    "### Problem 2: Write a function to compute powers of 2\n",
    "\n",
    "Hint: Powers of 2 are 1, 2, 4, 8, 16, 32 and so on for 2 to the power of 0, 1, 2, 3, 4, 5."
   ]
  },
  {
   "cell_type": "code",
   "execution_count": 4,
   "metadata": {
    "collapsed": true
   },
   "outputs": [],
   "source": [
    "# Code the following function\n",
    "def power_of_2(power):\n",
    "    '''Returns 2 to the power value.\n",
    "    '''\n",
    "    return 2 ** power\n"
   ]
  },
  {
   "cell_type": "code",
   "execution_count": 5,
   "metadata": {},
   "outputs": [
    {
     "data": {
      "text/plain": [
       "0.25"
      ]
     },
     "execution_count": 5,
     "metadata": {},
     "output_type": "execute_result"
    }
   ],
   "source": [
    "power_of_2(-2)\n"
   ]
  },
  {
   "cell_type": "code",
   "execution_count": 6,
   "metadata": {
    "collapsed": true
   },
   "outputs": [],
   "source": [
    "# If your code is right, the following asserts would succeed\n",
    "assert(power_of_2(0) == 1)\n",
    "assert(power_of_2(1) == 2)\n",
    "assert(power_of_2(2) == 4)\n",
    "assert(power_of_2(3) == 8)"
   ]
  },
  {
   "cell_type": "markdown",
   "metadata": {},
   "source": [
    " #### Problem 3: Write a function to check if the number is a power of 2\n",
    " \n",
    " If I pass in a value of 1, 2, 4, 8, 16 ... it should return True.  Otherwise, it should return False."
   ]
  },
  {
   "cell_type": "code",
   "execution_count": 7,
   "metadata": {
    "collapsed": true
   },
   "outputs": [],
   "source": [
    "def check_power_of_2(numb):\n",
    "    '''Returns True if numb is a power of 2, else returns False'''\n",
    "    \n",
    "    # Currently limited to testing (correctly?) positiive integers\n",
    "    numb=abs(numb)\n",
    "    if numb in [0,1] : return True # unless we are 0 or 1\n",
    "    elif numb % 2 == 0 and isinstance(numb, int): # power of 2 means an even integer\n",
    "        for power in range(numb):\n",
    "            current_power = power_of_2(power)\n",
    "            if current_power == numb: return True\n",
    "            if current_power >  numb: break\n",
    "    \n",
    "    return False"
   ]
  },
  {
   "cell_type": "code",
   "execution_count": 8,
   "metadata": {
    "collapsed": true
   },
   "outputs": [],
   "source": [
    "assert(check_power_of_2(-4) is True)\n",
    "assert(check_power_of_2(0) is True)\n",
    "assert(check_power_of_2(1) is True)"
   ]
  },
  {
   "cell_type": "code",
   "execution_count": 9,
   "metadata": {
    "collapsed": true
   },
   "outputs": [],
   "source": [
    "# If your code is right, the following asserts would succeed.\n",
    "assert(check_power_of_2(2) is True)\n",
    "assert(check_power_of_2(3) is False)\n",
    "assert(check_power_of_2(8) is True)\n",
    "assert(check_power_of_2(12) is False)"
   ]
  },
  {
   "cell_type": "markdown",
   "metadata": {},
   "source": [
    "### Problem 4: Write a function that returns the nth fibonaci sequence\n",
    "\n",
    "If I call with value of:\n",
    "    * 1, return the first fib sequence of 1\n",
    "    * 2, return 2nd number in fub seq of 1\n",
    "    * 3, return 1 + 1 = 2\n",
    "    * 4, return 1 + 2 = 3\n",
    "    * 5, return 2 + 3 = 5\n",
    "    * 6, return 3 + 5 = 8\n",
    "\n",
    "Ref: http://en.wikipedia.org/wiki/Fibonacci_number"
   ]
  },
  {
   "cell_type": "code",
   "execution_count": 11,
   "metadata": {
    "collapsed": true
   },
   "outputs": [],
   "source": [
    "def fib_value(numb):\n",
    "    '''returns the nth numb in fibonaci sequence'''\n",
    "    if numb <= 0 or isinstance(numb, float) : return 0\n",
    "    if numb == 1 : return 1\n",
    "    if numb == 2 : return 1\n",
    "    return (fib_value(numb - 2) + fib_value(numb - 1))\n"
   ]
  },
  {
   "cell_type": "code",
   "execution_count": 12,
   "metadata": {},
   "outputs": [
    {
     "name": "stdout",
     "output_type": "stream",
     "text": [
      "0\n",
      "0\n"
     ]
    }
   ],
   "source": [
    "# If your code is right, the following asserts would succeed. \n",
    "print fib_value(.9999999)\n",
    "print fib_value(-7)\n",
    "assert(fib_value(1) == 1)\n",
    "assert(fib_value(5) == 5)\n",
    "assert(fib_value(6) == 8)\n",
    "assert(fib_value(7) == 13)"
   ]
  },
  {
   "cell_type": "markdown",
   "metadata": {},
   "source": [
    "### Problem 5: Write a function to check if a number is a prime number"
   ]
  },
  {
   "cell_type": "code",
   "execution_count": 10,
   "metadata": {},
   "outputs": [],
   "source": [
    "def is_prime(numb):\n",
    "    '''Returns True if the number is a prime number'''\n",
    "    if numb > 1 and not isinstance(numb, float):\n",
    "        for divby in range(2, int((numb ** 0.5)+1.0)):\n",
    "            if (numb % divby) == 0: return False\n",
    "    elif numb == 2 : return True\n",
    "    else: return False # 0, 1, Floats & Negatives are not Primes http://mathforum.org/library/drmath/view/55940.html\n",
    "    return True"
   ]
  },
  {
   "cell_type": "code",
   "execution_count": 11,
   "metadata": {},
   "outputs": [
    {
     "name": "stdout",
     "output_type": "stream",
     "text": [
      "<type 'float'>\n",
      "False\n",
      "False\n"
     ]
    }
   ],
   "source": [
    "# If your code is right, the following asserts would succeed.\n",
    "print type(1.3)\n",
    "print is_prime(1.3)\n",
    "print is_prime(-6) \n",
    "assert(is_prime(2) is True)\n",
    "assert(is_prime(3) is True)\n",
    "assert(is_prime(4) is False)\n",
    "assert(is_prime(5) is True)\n",
    "assert(is_prime(6) is False)\n",
    "assert(is_prime(7) is True)\n",
    "assert(is_prime(8) is False)\n",
    "assert(is_prime(9) is False)\n",
    "assert(is_prime(10) is False)\n",
    "assert(is_prime(11) is True)\n",
    "assert(is_prime(12) is False)\n",
    "assert(is_prime(13) is True)"
   ]
  },
  {
   "cell_type": "code",
   "execution_count": null,
   "metadata": {
    "collapsed": true
   },
   "outputs": [],
   "source": []
  },
  {
   "cell_type": "markdown",
   "metadata": {},
   "source": [
    "### Problem 6: Write a function that returns the max number in a given sequence (list)\n",
    "\n",
    "Don't use the max function\n",
    "\n",
    "* For [1, 3, 2], return 3\n",
    "* For [3, 3, 4, 5, 1], return 5\n",
    "* For [], return None"
   ]
  },
  {
   "cell_type": "code",
   "execution_count": 14,
   "metadata": {
    "collapsed": true
   },
   "outputs": [],
   "source": [
    "def find_max(seq):\n",
    "    '''Returns max value in the seq (list).  If the seq is empty, return None'''\n",
    "    if not seq : return None\n",
    "    seq.sort()\n",
    "    return seq[-1]\n"
   ]
  },
  {
   "cell_type": "code",
   "execution_count": 15,
   "metadata": {
    "collapsed": true
   },
   "outputs": [],
   "source": [
    "# If your code is right, the following asserts would succeed.\n",
    "assert(find_max([1, 3, 2]) == 3)\n",
    "assert(find_max([3, 3, 4, 5, 1]) == 5)\n",
    "assert(find_max([]) is None)"
   ]
  },
  {
   "cell_type": "markdown",
   "metadata": {},
   "source": [
    "### Problem 7: Find the most common (repeated) number in a sequence\n",
    "\n",
    "* For [1, 1, 3, 2], return 1 (most common or repeated value)\n",
    "* For [1, 2, 2, 2, 3], return 2\n",
    "* For empty list [], return None\n",
    "\n",
    "Hint: Creating a Dictionary of numbers with their counts might be useful"
   ]
  },
  {
   "cell_type": "code",
   "execution_count": 16,
   "metadata": {
    "collapsed": true
   },
   "outputs": [],
   "source": [
    "def most_common(seq):\n",
    "    '''Returns the most common number in the sequence, return None if seq is empty'''\n",
    "    def get_item_count(item_tuple): return item_tuple[1]\n",
    "    \n",
    "    if not seq : return None\n",
    "    list_counts = {}\n",
    "    for item in seq:\n",
    "        if item not in list_counts:\n",
    "            list_counts[item] = 0\n",
    "        list_counts[item] += 1\n",
    "\n",
    "    return sorted(list_counts.items(), key=get_item_count, reverse=True)[0][0]"
   ]
  },
  {
   "cell_type": "code",
   "execution_count": 17,
   "metadata": {
    "collapsed": true
   },
   "outputs": [],
   "source": [
    "# If your code is right, the following asserts would succeed.\n",
    "assert(most_common([1, 1, 3, 2]) == 1)\n",
    "assert(most_common([1, 2, 2, 2, 5]) == 2)\n",
    "assert(most_common([]) is None)"
   ]
  },
  {
   "cell_type": "markdown",
   "metadata": {},
   "source": [
    "### Problem 8: Check if a string is a palindrome.\n",
    "\n",
    "Palindrome read the same backwards and forwards.\n",
    "\n",
    "Ref: http://en.wikipedia.org/wiki/Palindrome"
   ]
  },
  {
   "cell_type": "code",
   "execution_count": 18,
   "metadata": {
    "collapsed": true
   },
   "outputs": [],
   "source": [
    "def is_palindrome(seq):\n",
    "    '''Returns True if seq is a palindrome else return False'''\n",
    "    rev_seq = ''\n",
    "    for position in range(len(seq),0,-1):\n",
    "        rev_seq = rev_seq + seq[position - 1]\n",
    "    \n",
    "    return seq.lower() == rev_seq.lower()\n"
   ]
  },
  {
   "cell_type": "code",
   "execution_count": 19,
   "metadata": {},
   "outputs": [
    {
     "data": {
      "text/plain": [
       "False"
      ]
     },
     "execution_count": 19,
     "metadata": {},
     "output_type": "execute_result"
    }
   ],
   "source": [
    "is_palindrome('r4dar')"
   ]
  },
  {
   "cell_type": "code",
   "execution_count": 20,
   "metadata": {
    "collapsed": true
   },
   "outputs": [],
   "source": [
    "# If your code is right, the following asserts would succeed.\n",
    "assert(is_palindrome('radar') is True)\n",
    "assert(is_palindrome('civic') is True)\n",
    "assert(is_palindrome('honda') is False)"
   ]
  },
  {
   "cell_type": "markdown",
   "metadata": {},
   "source": [
    "### Problem 9: Find the five most commonly used words in Gettysburg Address\n",
    "\n",
    "Hint: http://www.d.umn.edu/~rmaclin/gettysburg-address.html"
   ]
  },
  {
   "cell_type": "code",
   "execution_count": 1,
   "metadata": {
    "collapsed": true
   },
   "outputs": [],
   "source": [
    "# If the following import gives error, go to command prompt and run \"conda install requests\"\n",
    "import requests\n",
    "\n",
    "url = 'http://www.d.umn.edu/~rmaclin/gettysburg-address.html'\n",
    "gettsburg = requests.get(url).text"
   ]
  },
  {
   "cell_type": "code",
   "execution_count": 5,
   "metadata": {},
   "outputs": [
    {
     "name": "stdout",
     "output_type": "stream",
     "text": [
      "[(u'we', 10), (u'not', 5), (u'here', 5), (u'can', 5), (u'have', 5), (u'they', 3), (u'shall', 3), (u'great', 3), (u'dedicated', 3), (u'us', 3), (u'who', 3), (u'gettysburg', 2), (u'gave', 2), (u'far', 2), (u'nation', 2), (u'these', 2), (u'dead', 2), (u'our', 2), (u'what', 2), (u'new', 2), (u'conceived', 2), (u'dedicate', 2), (u'or', 2), (u'from', 2), (u'long', 2)]\n"
     ]
    }
   ],
   "source": [
    "# Now gettsburg has the text of Lincon's address.  Can you find the most commonly used words?\n",
    "def get_word_count(item_tuple): return item_tuple[1]\n",
    "\n",
    "common_words = ['a', 'the', 'are', 'and', 'that', 'this', 'to', 'of', 'for', 'it', 'in', 'is', 'be', 'on', 'or']\n",
    "\n",
    "word_counts = {}\n",
    "for word in gettsburg.split():\n",
    "    word = word.lower()\n",
    "    if word not in common_words and word.isalpha():\n",
    "        if word not in word_counts:\n",
    "            word_counts[word] = 0\n",
    "        word_counts[word] += 1\n",
    "\n",
    "print sorted(word_counts.items(), key=get_word_count, reverse=True)[:25]"
   ]
  },
  {
   "cell_type": "markdown",
   "metadata": {},
   "source": [
    "# Problem 10: Do problem 9 excluding stop words like \"a, the, and etc.\""
   ]
  },
  {
   "cell_type": "code",
   "execution_count": null,
   "metadata": {
    "collapsed": true
   },
   "outputs": [],
   "source": []
  }
 ],
 "metadata": {
  "kernelspec": {
   "display_name": "Python 2",
   "language": "python",
   "name": "python2"
  },
  "language_info": {
   "codemirror_mode": {
    "name": "ipython",
    "version": 2
   },
   "file_extension": ".py",
   "mimetype": "text/x-python",
   "name": "python",
   "nbconvert_exporter": "python",
   "pygments_lexer": "ipython2",
   "version": "2.7.13"
  }
 },
 "nbformat": 4,
 "nbformat_minor": 1
}
