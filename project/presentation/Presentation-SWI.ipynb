{
 "cells": [
  {
   "cell_type": "raw",
   "metadata": {
    "slideshow": {
     "slide_type": "skip"
    }
   },
   "source": [
    "from IPython.display import Image\n",
    " %matplotlib inline\n",
    " "
   ]
  },
  {
   "cell_type": "markdown",
   "metadata": {
    "slideshow": {
     "slide_type": "slide"
    }
   },
   "source": [
    "\n",
    "# Search with Inference\n",
    "\n",
    "## GA SG Data Science #5 Project\n",
    "\n",
    "### Matthew A. Snell\n",
    "\n",
    "#### 2017-10-21\n"
   ]
  },
  {
   "cell_type": "markdown",
   "metadata": {
    "slideshow": {
     "slide_type": "slide"
    }
   },
   "source": [
    "# Lessons Learnt ... *So Far* ...\n",
    "\n",
    "  - Who needs classes? It's just a proof of concept...\n",
    "      **wrong**\n",
    "      \n",
    "  - Who needs a DBMS? It's just a proof of concept...\n",
    "      **wrong**\n",
    "      \n",
    "  - ETL (cleansing) is slow (cpu time)\n",
    "      **get the data models right**\n",
    "      \n",
    "  - Dictorionaries ( dict() ) are Great!\n",
    "      **nested dictionaries are (code) messy**\n",
    "      \n",
    "  - I'll build a non/semi-Data Science model 1st for comparision\n",
    "      **time consuming**\n",
    "  "
   ]
  },
  {
   "cell_type": "code",
   "execution_count": null,
   "metadata": {},
   "outputs": [],
   "source": []
  }
 ],
 "metadata": {
  "celltoolbar": "Slideshow",
  "kernelspec": {
   "display_name": "Python [default]",
   "language": "python",
   "name": "python2"
  },
  "language_info": {
   "codemirror_mode": {
    "name": "ipython",
    "version": 2
   },
   "file_extension": ".py",
   "mimetype": "text/x-python",
   "name": "python",
   "nbconvert_exporter": "python",
   "pygments_lexer": "ipython2",
   "version": "2.7.14"
  }
 },
 "nbformat": 4,
 "nbformat_minor": 2
}
