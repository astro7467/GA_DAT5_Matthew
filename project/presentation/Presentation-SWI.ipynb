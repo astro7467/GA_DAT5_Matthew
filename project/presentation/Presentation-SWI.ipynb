{
 "cells": [
  {
   "cell_type": "code",
   "execution_count": null,
   "metadata": {
    "slideshow": {
     "slide_type": "skip"
    }
   },
   "outputs": [],
   "source": [
    "import nbpresent\n",
    "\n",
    "nbpresent.__version__\n",
    "\n",
    "from IPython.display import Image\n",
    "\n",
    "%matplotlib inline"
   ]
  },
  {
   "cell_type": "markdown",
   "metadata": {
    "nbpresent": {
     "id": "525a9f09-ce68-4262-9980-03fd9ca469d6"
    },
    "slideshow": {
     "slide_type": "slide"
    }
   },
   "source": [
    "# Search with Inference\n",
    "\n",
    "## Matthew A. Snell\n",
    "### GA SG Data Science 5 - Project\n",
    "\n",
    "\n",
    "#### 2017-10-21\n"
   ]
  },
  {
   "cell_type": "markdown",
   "metadata": {
    "slideshow": {
     "slide_type": "slide"
    }
   },
   "source": [
    "# Objective"
   ]
  },
  {
   "cell_type": "markdown",
   "metadata": {
    "nbpresent": {
     "id": "c6c04bf2-8cae-40ff-9c53-9cde0bd023fd"
    },
    "slideshow": {
     "slide_type": "slide"
    }
   },
   "source": [
    "Leverage Ngrams plus TensorFlow (Word2Vec) to rank a body of *sources* against a provided search *phrase*\n",
    "\n",
    "  - Rank Sources using Ngram based scoring (width of 3)\n",
    "    \n",
    "  - Suppliment Ngram search with Word2Vec (width of 5) nearest neighbours based *re-phrasing* of search term"
   ]
  },
  {
   "cell_type": "markdown",
   "metadata": {
    "slideshow": {
     "slide_type": "slide"
    }
   },
   "source": [
    "# Lessons Learnt ... *So Far* ..."
   ]
  },
  {
   "cell_type": "markdown",
   "metadata": {
    "nbpresent": {
     "id": "b8757629-3956-475f-bd5a-12458400ee7d"
    },
    "slideshow": {
     "slide_type": "slide"
    }
   },
   "source": [
    "  - Who needs classes? It's just a proof of concept\n",
    "\n",
    "    **Wrong** - Code Complexity\n",
    "    \n",
    "  - Who needs a DBMS? It's just a proof of concept\n",
    "\n",
    "    **Wrong** - Performance\n",
    "      \n",
    "  - ETL (cleansing) is slow (cpu time)\n",
    "\n",
    "    **Get the Data Models Right** - Re-Runs & Validators are expensive\n",
    "    \n",
    "  - Dictionaries `dict()` or `{ k:v }` are Great!\n",
    "   \n",
    "   **Nested Dictionaries are (code) Messy**:\n",
    "   \n",
    "   `dict = { k1: { k2: { k3: v }}}` -> `dict[k1][k2][k3]`\n",
    "     \n",
    "  - I'll build a non/semi-Data Science model 1st for comparision\n",
    "\n",
    "    **Time Consuming** - More about Python than Data Science\n"
   ]
  },
  {
   "cell_type": "markdown",
   "metadata": {
    "slideshow": {
     "slide_type": "slide"
    }
   },
   "source": [
    "# What is an Ngram?"
   ]
  },
  {
   "cell_type": "markdown",
   "metadata": {
    "slideshow": {
     "slide_type": "slide"
    }
   },
   "source": [
    "For the purposes of Data Science or NLP, an Ngram (monogram, bigram, trigram, quadgram etc) is a *sliding* group of *words* taken from a set of text.\n",
    "\n",
    "eg. `consider this line of text`\n",
    "\n",
    "    1gram = `[consider, this, line, of, text]` - 5 elements\n",
    "\n",
    "    2gram = `[consider this, this line, line of, of text]` - 4 elements\n",
    "\n",
    "    3gram = `[consider this line, this line of, line of text]` - 3 elements\n"
   ]
  },
  {
   "cell_type": "markdown",
   "metadata": {
    "slideshow": {
     "slide_type": "slide"
    }
   },
   "source": [
    "# But for Search Phases,\n",
    "# We handle Ngrams differently"
   ]
  },
  {
   "cell_type": "markdown",
   "metadata": {
    "slideshow": {
     "slide_type": "slide"
    }
   },
   "source": [
    "How a search phrase is sequenced or weighted by a user can be very different compared to how the terms are used.\n",
    "\n",
    "Consider:\n",
    "\n",
    "Search Phrase: `Python Learning Examples SciKit Data Science`\n",
    "\n",
    "vs\n",
    "         \n",
    "Book Title: `Data Science SciKit Learning Python Examples`\n",
    "\n",
    "Using Ngrams, the best hit we get beyond 1gram (low scoring), is the 2gram `Data Science` - in a sea of documents, this will not rank high - unless a word is rare eg `skikit`\n"
   ]
  },
  {
   "cell_type": "markdown",
   "metadata": {
    "slideshow": {
     "slide_type": "slide"
    }
   },
   "source": [
    "To counter this, for search phrases, we generate every possible Ngram, to given width, and drop all those never seen before (ie. not in our Ngram Datastore)\n",
    "\n",
    "eg: `Python Learning Examples SciKit Data Science` ->\n",
    "\n",
    "`[ TODO ]`\n"
   ]
  },
  {
   "cell_type": "markdown",
   "metadata": {
    "slideshow": {
     "slide_type": "slide"
    }
   },
   "source": [
    "# Datastores"
   ]
  },
  {
   "cell_type": "markdown",
   "metadata": {
    "slideshow": {
     "slide_type": "slide"
    }
   },
   "source": [
    "### Config\n",
    "Contains application wide baselines (eg. Instance UUID, Corpus Directory, Ngram width, Word2Vec Ngram Width) & master keys (currently only last used `vector`)\n",
    "\n",
    "### Dictionary\n",
    "`word` to `vector` (`int`) mappings\n",
    "`vector` assigned sequentially when new `word` is found\n",
    "\n",
    "### Vector\n",
    "`vector`  (`int`) to `word` mappings\n",
    "\n",
    "### NGram\n",
    "Per `ngram`, per `srcID` list of lines with Ngram\n"
   ]
  },
  {
   "cell_type": "markdown",
   "metadata": {
    "slideshow": {
     "slide_type": "slide"
    }
   },
   "source": [
    "### Sources\n",
    "Per Source Path (file path, URL etc) to `srcID` (UUID)\n",
    "\n",
    "Potential to add source has (ND5 or SHA1) to avoid duplicates\n",
    "\n",
    "### DocMeta (Document Meta)\n",
    "Per `source` summary information, including type (URL, FILE, ...) and sub-type (HTML, PDF, TXT, CSV, ...), index status, Word2Vec status, `list` of ngrams, indexed data version, when indexed etc\n",
    "\n",
    "### DocStat (Document Statistics)\n",
    "Per document (`srcID`), per line list of Ngrams\n"
   ]
  },
  {
   "cell_type": "markdown",
   "metadata": {
    "slideshow": {
     "slide_type": "slide"
    }
   },
   "source": [
    "# Algorithm - Index - Ngram\n"
   ]
  },
  {
   "cell_type": "markdown",
   "metadata": {
    "slideshow": {
     "slide_type": "slide"
    }
   },
   "source": []
  },
  {
   "cell_type": "markdown",
   "metadata": {
    "slideshow": {
     "slide_type": "slide"
    }
   },
   "source": [
    "# Algorithm - Word2Vec"
   ]
  },
  {
   "cell_type": "markdown",
   "metadata": {
    "slideshow": {
     "slide_type": "slide"
    }
   },
   "source": []
  },
  {
   "cell_type": "markdown",
   "metadata": {
    "slideshow": {
     "slide_type": "slide"
    }
   },
   "source": [
    "# Algorithm - Search"
   ]
  },
  {
   "cell_type": "markdown",
   "metadata": {
    "slideshow": {
     "slide_type": "slide"
    }
   },
   "source": []
  },
  {
   "cell_type": "markdown",
   "metadata": {
    "slideshow": {
     "slide_type": "slide"
    }
   },
   "source": []
  },
  {
   "cell_type": "markdown",
   "metadata": {
    "slideshow": {
     "slide_type": "slide"
    }
   },
   "source": []
  },
  {
   "cell_type": "markdown",
   "metadata": {
    "slideshow": {
     "slide_type": "slide"
    }
   },
   "source": []
  },
  {
   "cell_type": "markdown",
   "metadata": {
    "slideshow": {
     "slide_type": "slide"
    }
   },
   "source": []
  },
  {
   "cell_type": "markdown",
   "metadata": {
    "slideshow": {
     "slide_type": "slide"
    }
   },
   "source": []
  },
  {
   "cell_type": "markdown",
   "metadata": {
    "slideshow": {
     "slide_type": "slide"
    }
   },
   "source": []
  },
  {
   "cell_type": "markdown",
   "metadata": {
    "slideshow": {
     "slide_type": "slide"
    }
   },
   "source": []
  },
  {
   "cell_type": "markdown",
   "metadata": {
    "slideshow": {
     "slide_type": "slide"
    }
   },
   "source": []
  }
 ],
 "metadata": {
  "celltoolbar": "Slideshow",
  "kernelspec": {
   "display_name": "Python [default]",
   "language": "python",
   "name": "python2"
  },
  "language_info": {
   "codemirror_mode": {
    "name": "ipython",
    "version": 2
   },
   "file_extension": ".py",
   "mimetype": "text/x-python",
   "name": "python",
   "nbconvert_exporter": "python",
   "pygments_lexer": "ipython2",
   "version": "2.7.14"
  },
  "nbpresent": {
   "slides": {
    "463ac1c5-3352-44dc-9235-23ac0d84b41e": {
     "id": "463ac1c5-3352-44dc-9235-23ac0d84b41e",
     "prev": "ee233c08-e6ea-42ae-b70c-26e7fceecfe4",
     "regions": {
      "b0072f8a-5fa6-49ff-b5b0-3976507b34eb": {
       "attrs": {
        "height": 1,
        "width": 1,
        "x": 0,
        "y": 0
       },
       "id": "b0072f8a-5fa6-49ff-b5b0-3976507b34eb"
      }
     }
    },
    "9a7e67e8-a5d4-4ab6-8c90-99f2491da797": {
     "id": "9a7e67e8-a5d4-4ab6-8c90-99f2491da797",
     "prev": "a16efaa2-3906-4e85-aee3-f814c1090edf",
     "regions": {
      "57df63df-1911-458e-b56f-47fcfd03c0b9": {
       "attrs": {
        "height": 0.4,
        "width": 0.8,
        "x": 0.1,
        "y": 0.5
       },
       "content": {
        "cell": "e0f89f1e-62f1-4b97-b4a4-c58d0b45e96b",
        "part": "whole"
       },
       "id": "57df63df-1911-458e-b56f-47fcfd03c0b9"
      },
      "b7939136-7386-496f-8338-742a35f927f3": {
       "attrs": {
        "height": 0.8,
        "width": 0.8,
        "x": 0.1,
        "y": 0.1
       },
       "content": {
        "cell": "b8757629-3956-475f-bd5a-12458400ee7d",
        "part": "whole"
       },
       "id": "b7939136-7386-496f-8338-742a35f927f3"
      }
     }
    },
    "a16efaa2-3906-4e85-aee3-f814c1090edf": {
     "id": "a16efaa2-3906-4e85-aee3-f814c1090edf",
     "prev": "463ac1c5-3352-44dc-9235-23ac0d84b41e",
     "regions": {
      "dc91703f-0f79-48c7-82f6-ea9c3f59ff3a": {
       "attrs": {
        "height": 0.8,
        "width": 0.8,
        "x": 0.1,
        "y": 0.1
       },
       "content": {
        "cell": "c6c04bf2-8cae-40ff-9c53-9cde0bd023fd",
        "part": "whole"
       },
       "id": "dc91703f-0f79-48c7-82f6-ea9c3f59ff3a"
      }
     }
    },
    "ee233c08-e6ea-42ae-b70c-26e7fceecfe4": {
     "id": "ee233c08-e6ea-42ae-b70c-26e7fceecfe4",
     "prev": null,
     "regions": {
      "c45c16d5-8891-4465-b55e-75ceabee2adb": {
       "attrs": {
        "height": 0.8,
        "width": 0.8,
        "x": 0.1,
        "y": 0.1
       },
       "content": {
        "cell": "525a9f09-ce68-4262-9980-03fd9ca469d6",
        "part": "whole"
       },
       "id": "c45c16d5-8891-4465-b55e-75ceabee2adb"
      }
     }
    }
   },
   "themes": {}
  }
 },
 "nbformat": 4,
 "nbformat_minor": 2
}
