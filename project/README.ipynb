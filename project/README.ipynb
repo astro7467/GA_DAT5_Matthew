{
 "cells": [
  {
   "cell_type": "markdown",
   "metadata": {},
   "source": [
    "# GA Data Science #5 Project"
   ]
  },
  {
   "cell_type": "markdown",
   "metadata": {},
   "source": [
    "## Project Object:\n",
    "\n",
    "- Leverage TensorFlow Word2Vec (or Doc2Vec) to parse documents\n",
    "- Vectorize (new) words\n",
    "- Build related ( inc. synomons, typos, alternative spellings, or associated ) relationsships based on document usage of words\n",
    "  - Eliminates need for stemming\n"
   ]
  },
  {
   "cell_type": "markdown",
   "metadata": {},
   "source": [
    "## High-Level Flow:\n",
    "\n",
    "### Indexing:\n",
    "- Load (or Initialize) TF Model\n",
    "- Scan document corpose for new/unindexed documents\n",
    "- For each new document;\n",
    "  - Load/Extract Text\n",
    "  - Remove STOP words\n",
    "  - Add to TF Word2Vec Model\n",
    "  - Add document reference (path/url) to Search Index (UID for each doc/source?)\n",
    "    - Count occurances of each word in document\n",
    "    - Add counts to index (TF vector for word) against source UID\n",
    "    \n",
    "### Searching:\n",
    "- Obtain Vector & nearest Neighbours (5?) for each Word in search term from TF Model\n",
    "- Score each UID source/doc\n",
    "  - Primary score - Total count/occurances of each search term/word\n",
    "  - Secondary Score - Total Count/occurnaces of each nearest neighbours\n",
    "- Present Top 10 Direct Primary Score vs Top 10 Secondary Score\n",
    "\n"
   ]
  },
  {
   "cell_type": "markdown",
   "metadata": {},
   "source": [
    "## Expected High-Level Data Structures/Models\n",
    "\n",
    "- TF Word2Vec Model\n",
    "- Source Meta - SUID , path/url, {Fingerprint/MD5, Updated, Format Info, Summary (ML Opp)} ...\n",
    "- Index Word (Vector) -> to -> SUID, Count No.\n",
    "\n"
   ]
  },
  {
   "cell_type": "raw",
   "metadata": {},
   "source": []
  }
 ],
 "metadata": {
  "kernelspec": {
   "display_name": "Python [conda env:tf]",
   "language": "python",
   "name": "conda-env-tf-py"
  },
  "language_info": {
   "codemirror_mode": {
    "name": "ipython",
    "version": 2
   },
   "file_extension": ".py",
   "mimetype": "text/x-python",
   "name": "python",
   "nbconvert_exporter": "python",
   "pygments_lexer": "ipython2",
   "version": "2.7.13"
  }
 },
 "nbformat": 4,
 "nbformat_minor": 2
}
